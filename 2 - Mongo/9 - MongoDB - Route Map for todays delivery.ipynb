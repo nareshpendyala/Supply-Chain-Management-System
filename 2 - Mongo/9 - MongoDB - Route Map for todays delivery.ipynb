{
 "cells": [
  {
   "cell_type": "raw",
   "metadata": {},
   "source": [
    "--: MONGODB - USER STORY - 4 :-  I am parcel delivery boy. I have a lot of deliveries to do today. I want an inteligent plane to travel. Can I have route map, which one needs to be deliver first , second , third and so on ..........................\n"
   ]
  },
  {
   "cell_type": "code",
   "execution_count": 1,
   "metadata": {},
   "outputs": [],
   "source": [
    "############################# Importing all req. libreries ############################################\n",
    "from pymongo import MongoClient\n",
    "import pandas as pd\n",
    "from mpl_toolkits.basemap import Basemap\n",
    "import matplotlib\n",
    "%matplotlib qt\n",
    "import matplotlib.pyplot as plt\n",
    "import ipywidgets as ipw\n",
    "from ipywidgets import Button, HBox, VBox,RadioButtons\n",
    "client = MongoClient(\"mongodb://localhost:27017\")\n",
    "database = client[\"Open_Source_DB\"]\n"
   ]
  },
  {
   "cell_type": "code",
   "execution_count": 11,
   "metadata": {},
   "outputs": [
    {
     "name": "stderr",
     "output_type": "stream",
     "text": [
      "C:\\Users\\anilk\\Anaconda3\\envs\\Final\\lib\\site-packages\\ipykernel_launcher.py:6: DeprecationWarning: insert is deprecated. Use insert_one or insert_many instead.\n",
      "  \n",
      "C:\\Users\\anilk\\Anaconda3\\envs\\Final\\lib\\site-packages\\ipykernel_launcher.py:13: DeprecationWarning: insert is deprecated. Use insert_one or insert_many instead.\n",
      "  del sys.path[0]\n"
     ]
    },
    {
     "data": {
      "text/plain": [
       "ObjectId('5e5856a421dceebcfbd8a937')"
      ]
     },
     "execution_count": 11,
     "metadata": {},
     "output_type": "execute_result"
    }
   ],
   "source": [
    "collection = database[\"temp\"]\n",
    "collection.insert({\"location\" : {\n",
    "        \"type\" : \"Point\", \n",
    "        \"coordinates\" : [\n",
    "            13.4, \n",
    "            52.516667000000005\n",
    "        ]\n",
    "    }})\n",
    "collection.insert({\"location\" : {\n",
    "        \"type\" : \"Point\", \n",
    "        \"coordinates\" : [\n",
    "            9.180819, \n",
    "            48.782343\n",
    "        ]\n",
    "    }})"
   ]
  },
  {
   "cell_type": "code",
   "execution_count": 16,
   "metadata": {},
   "outputs": [],
   "source": [
    "#set in shell\n",
    "#db.temp.createIndex( { location : \"2dsphere\" } )"
   ]
  },
  {
   "cell_type": "code",
   "execution_count": 15,
   "metadata": {},
   "outputs": [
    {
     "name": "stdout",
     "output_type": "stream",
     "text": [
      "{'coordinates': [9.180819, 48.782343]}\n",
      "{'coordinates': [13.4, 52.516667000000005]}\n"
     ]
    }
   ],
   "source": [
    "############################# MongoDB Pipeline  ############################################\n",
    "\n",
    "pipeline = [\n",
    "    {\n",
    "        u\"$geoNear\": {\n",
    "            u\"near\": {\n",
    "                u\"type\": u\"Point\",\n",
    "                u\"coordinates\": [\n",
    "                    9.180819, \n",
    "                    48.782343\n",
    "                ]\n",
    "            },\n",
    "            u\"distanceField\": u\"dist.calculated\",\n",
    "        }\n",
    "    }, \n",
    "    {\n",
    "        u\"$project\": {\n",
    "            u\"Entitiy\": u\"$Type of User\",\n",
    "            u\"coordinates\": u\"$location.coordinates\",\n",
    "            u\"_id\": 0.0\n",
    "        }\n",
    "    }\n",
    "]\n",
    "\n",
    "cursor = collection.aggregate(\n",
    "    pipeline, \n",
    "    allowDiskUse = False\n",
    ")\n",
    "\n",
    "lats = []\n",
    "lons = []\n",
    "ty = []\n",
    "try:\n",
    "    for doc in cursor:\n",
    "        print(doc)\n",
    "#         lats.append(doc[\"coordinates\"][1])\n",
    "#         lons.append(doc[\"coordinates\"][0])\n",
    "#         ty.append(doc[\"Entitiy\"])\n",
    "finally:\n",
    "    client.close()\n"
   ]
  },
  {
   "cell_type": "code",
   "execution_count": 69,
   "metadata": {},
   "outputs": [
    {
     "name": "stderr",
     "output_type": "stream",
     "text": [
      "C:\\Users\\anilk\\Anaconda3\\envs\\Final\\lib\\site-packages\\ipykernel_launcher.py:3: MatplotlibDeprecationWarning: \n",
      "The dedent function was deprecated in Matplotlib 3.1 and will be removed in 3.3. Use inspect.cleandoc instead.\n",
      "  This is separate from the ipykernel package so we can avoid doing imports until\n",
      "C:\\Users\\anilk\\Anaconda3\\envs\\Final\\lib\\site-packages\\ipykernel_launcher.py:6: MatplotlibDeprecationWarning: \n",
      "The dedent function was deprecated in Matplotlib 3.1 and will be removed in 3.3. Use inspect.cleandoc instead.\n",
      "  \n",
      "C:\\Users\\anilk\\Anaconda3\\envs\\Final\\lib\\site-packages\\ipykernel_launcher.py:7: MatplotlibDeprecationWarning: \n",
      "The dedent function was deprecated in Matplotlib 3.1 and will be removed in 3.3. Use inspect.cleandoc instead.\n",
      "  import sys\n"
     ]
    }
   ],
   "source": [
    "####################### Visulizing the results in Map ###################################################\n",
    "m = Basemap(projection='mill',\n",
    "                resolution='l') \n",
    "\n",
    "m.drawcoastlines()\n",
    "m.drawcountries(linewidth=0.1)\n",
    "m.drawstates()\n",
    "\n",
    "i = 0\n",
    "for lat , lon in zip(lats,lons):\n",
    "    x,y = m.projtran(lon,lat)\n",
    "    if ty[i] == 'End User' : m.plot(x,y,'g*',markersize=10)\n",
    "    if ty[i] == 'Retailer' : m.plot(x,y,'y*',markersize=10)\n",
    "    if ty[i] == 'Supplier' : m.plot(x,y,'b*',markersize=10)\n",
    "    if ty[i] == 'Manufacturer' : m.plot(x,y,'b*',markersize=10)\n",
    "    i = i+1\n",
    "plt.show()"
   ]
  },
  {
   "cell_type": "code",
   "execution_count": 57,
   "metadata": {},
   "outputs": [],
   "source": [
    "?zip"
   ]
  }
 ],
 "metadata": {
  "hide_input": false,
  "kernelspec": {
   "display_name": "Python 3",
   "language": "python",
   "name": "python3"
  },
  "language_info": {
   "codemirror_mode": {
    "name": "ipython",
    "version": 3
   },
   "file_extension": ".py",
   "mimetype": "text/x-python",
   "name": "python",
   "nbconvert_exporter": "python",
   "pygments_lexer": "ipython3",
   "version": "3.7.6"
  }
 },
 "nbformat": 4,
 "nbformat_minor": 2
}
