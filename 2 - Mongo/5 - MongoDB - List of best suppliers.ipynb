{
 "cells": [
  {
   "cell_type": "raw",
   "metadata": {
    "deletable": false
   },
   "source": [
    "MongoDB - Userstory "
   ]
  },
  {
   "cell_type": "code",
   "execution_count": 5,
   "metadata": {
    "deletable": false
   },
   "outputs": [
    {
     "data": {
      "application/vnd.jupyter.widget-view+json": {
       "model_id": "3d06a687673a4e6d964d44c315dfb085",
       "version_major": 2,
       "version_minor": 0
      },
      "text/plain": [
       "HBox(children=(Dropdown(description='Select Mobile - ', options=('NONE', 'Samsung C3500 Monte Bar', 'Samsung I…"
      ]
     },
     "metadata": {},
     "output_type": "display_data"
    }
   ],
   "source": [
    "############################# Importing all req. libreries ############################################\n",
    "import ipywidgets as ipw\n",
    "from pymongo import MongoClient\n",
    "import pandas as pd\n",
    "from bson.son import SON\n",
    "from IPython.display import display\n",
    "from IPython.display import Image\n",
    "from ipywidgets import HBox\n",
    "\n",
    "\n",
    "############################# Selecting the Entity IDs  ############################################\n",
    "ids = pd.read_excel(\"IDs.xlsx\")\n",
    "\n",
    "client = MongoClient(\"mongodb://localhost:27017\")\n",
    "database = client[\"SCM_DB\"]\n",
    "#disconnect()\n",
    "df = pd.read_excel(\"IDs.xlsx\")\n",
    "Mob_Name = ipw.Dropdown(\n",
    "    options=list(df[\"Mobile Names_Neo4J\"].dropna()),\n",
    "    description = \"Select Mobile - \", )\n",
    "raw_type = ipw.Dropdown(\n",
    "    options=list(df[\"Raw type\"].dropna()),\n",
    "    description = \"Part type - \", )\n",
    "HBox([Mob_Name,raw_type])"
   ]
  },
  {
   "cell_type": "code",
   "execution_count": 2,
   "metadata": {},
   "outputs": [
    {
     "data": {
      "application/vnd.jupyter.widget-view+json": {
       "model_id": "195614746afc4c4cab68053c4e471349",
       "version_major": 2,
       "version_minor": 0
      },
      "text/plain": [
       "Dropdown(description='Sub type - ', options=('8 MP', '16 MP', '5 MP', '13 MP', '12 MP'), value='8 MP')"
      ]
     },
     "metadata": {},
     "output_type": "display_data"
    }
   ],
   "source": [
    "Mob_Name = Mob_Name.value\n",
    "raw_type = raw_type.value\n",
    "if raw_type == \"Memory Card\" : \n",
    "    out = \"MC\"\n",
    "    spec = \"memory_card\"\n",
    "    imei = \"mmc imei\"\n",
    "elif raw_type == \"RAM\" : \n",
    "    out = \"RAM\"\n",
    "    spec = \"RAM\"\n",
    "    imei = \"ram imei\"\n",
    "elif raw_type == \"GPU\" : \n",
    "    out = \"GPU\"\n",
    "    spec = \"GPU\"\n",
    "    imei = \"gpu imei\"\n",
    "elif raw_type == \"Chipset\" : \n",
    "    out = \"Chipset\"\n",
    "    spec = \"Chipset\"\n",
    "    imei = \"chip imei\"\n",
    "elif raw_type == \"Primary Camara\" : \n",
    "    out = \"PC\"\n",
    "    spec = \"primary_camera\"\n",
    "    imei = \"pc imei\"\n",
    "elif raw_type == \"Sensor\" : \n",
    "    out = \"Sensor\"\n",
    "    spec = \"sensors\"\n",
    "    imei = \"sen imei\"\n",
    "elif raw_type == \"Battery\" : \n",
    "    out = \"Battery\"\n",
    "    spec = \"battery\"\n",
    "    imei = \"batt imei\"\n",
    "sub_type = ipw.Dropdown(\n",
    "    options=list(df[out].dropna()),\n",
    "    description = \"Sub type - \", )\n",
    "sub_type"
   ]
  },
  {
   "cell_type": "code",
   "execution_count": 3,
   "metadata": {},
   "outputs": [
    {
     "name": "stdout",
     "output_type": "stream",
     "text": [
      "Samsung Galaxy A60 ----- Primary Camara ----- 16 MP\n"
     ]
    }
   ],
   "source": [
    "sub_type = sub_type.value\n",
    "print(Mob_Name , '-----' ,raw_type , '-----' , sub_type)"
   ]
  },
  {
   "cell_type": "code",
   "execution_count": 4,
   "metadata": {},
   "outputs": [
    {
     "name": "stdout",
     "output_type": "stream",
     "text": [
      "{'Type': '16 MP', 'Price': 26.0, 'Quantity': 900, 'Sup Name': 'Muller mobile spare parts GmbH', 'Sup Country': 'Germany'}\n",
      "{'Type': '16 MP', 'Price': 30.0, 'Quantity': 495, 'Sup Name': 'Magna solutions GmbH', 'Sup Country': 'Germany'}\n",
      "{'Type': '16 MP', 'Price': 35.0, 'Quantity': 830, 'Sup Name': 'Verzon spare parts US Ltd', 'Sup Country': 'USA'}\n",
      "{'Type': '16 MP', 'Price': 35.0, 'Quantity': 900, 'Sup Name': 'Tesla innovations Ltd', 'Sup Country': 'USA'}\n"
     ]
    }
   ],
   "source": [
    "collection = database[\"Mobile_Specifications\"]\n",
    "\n",
    "pipeline = [\n",
    "    {\n",
    "        u\"$match\": {\n",
    "            u\"Mobile_Name\": Mob_Name\n",
    "        }\n",
    "    }, \n",
    "    {\n",
    "        u\"$project\": {\n",
    "            u\"Mobile_Name\": u\"$Mobile_Name\",\n",
    "            u\"primary_camera\": spec,\n",
    "            u\"mobspec\": {\n",
    "                u\"$toString\": u\"$_id\"\n",
    "            },\n",
    "            u\"_id\": 0.0\n",
    "        }\n",
    "    }, \n",
    "    {\n",
    "        u\"$lookup\": {\n",
    "            u\"from\": u\"Top_Level_Assembly_Colleciton\",\n",
    "            u\"localField\": u\"mobspec\",\n",
    "            u\"foreignField\": u\"Mobile Spec Reference\",\n",
    "            u\"as\": u\"k\"\n",
    "        }\n",
    "    }, \n",
    "    {\n",
    "        u\"$unwind\": {\n",
    "            u\"path\": u\"$k\"\n",
    "        }\n",
    "    }, \n",
    "    {\n",
    "        u\"$project\": {\n",
    "            u\"raw_imei\": u\"$k.Raw Material details.\"+imei\n",
    "        }\n",
    "    }, \n",
    "    {\n",
    "        u\"$lookup\": {\n",
    "            u\"from\": u\"Raw_Material_Colleciton\",\n",
    "            u\"localField\": u\"raw_imei\",\n",
    "            u\"foreignField\": u\"Raw Material IMEI number\",\n",
    "            u\"as\": u\"c\"\n",
    "        }\n",
    "    }, \n",
    "    {\n",
    "        u\"$unwind\": {\n",
    "            u\"path\": u\"$c\"\n",
    "        }\n",
    "    }, \n",
    "    {\n",
    "        u\"$project\": {\n",
    "            u\"Type\": u\"$c.Raw Material Description\",\n",
    "            u\"Price\": {\n",
    "                u\"$arrayElemAt\": [\n",
    "                    u\"$c.Raw Material Price\",\n",
    "                    0.0\n",
    "                ]\n",
    "            },\n",
    "            u\"Quantity\": u\"$c.Avalibility\",\n",
    "            u\"Sup Name\": u\"$c.Supplier Location Details.Supplier_Name\",\n",
    "            u\"Sup Country\": u\"$c.Supplier Location Details.Supplier_Country\"\n",
    "        }\n",
    "    }, \n",
    "    {\n",
    "        u\"$match\": {\n",
    "            u\"Type\": sub_type,\n",
    "            u\"Quantity\": {\n",
    "                u\"$gt\": 300.0\n",
    "            }\n",
    "        }\n",
    "    }, \n",
    "    {\n",
    "        u\"$sort\": SON([ (u\"Price\", 1) ])\n",
    "    }\n",
    "]\n",
    "\n",
    "cursor = collection.aggregate(\n",
    "    pipeline, \n",
    "    allowDiskUse = False\n",
    ")\n",
    "\n",
    "li = []\n",
    "try:\n",
    "    for doc in cursor:\n",
    "        if doc['Sup Name'] in li: pass\n",
    "        else :\n",
    "            li.append(doc['Sup Name'])\n",
    "            print(doc)\n",
    "finally:\n",
    "    client.close()"
   ]
  }
 ],
 "metadata": {
  "celltoolbar": "Edit Metadata",
  "hide_input": false,
  "kernelspec": {
   "display_name": "Python 3",
   "language": "python",
   "name": "python3"
  },
  "language_info": {
   "codemirror_mode": {
    "name": "ipython",
    "version": 3
   },
   "file_extension": ".py",
   "mimetype": "text/x-python",
   "name": "python",
   "nbconvert_exporter": "python",
   "pygments_lexer": "ipython3",
   "version": "3.7.6"
  }
 },
 "nbformat": 4,
 "nbformat_minor": 2
}
