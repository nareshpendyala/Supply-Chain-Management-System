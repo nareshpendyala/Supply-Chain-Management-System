{
 "cells": [
  {
   "cell_type": "raw",
   "metadata": {
    "deletable": false,
    "editable": false
   },
   "source": [
    "--: MONGODB - USER STORY - 2 :-  I want to start a new venture in a place. I want the present business situation in that area. Can I have all current tranacions in and around my target place. (Number of Customer, already existing suppliers / Manuf / Retailers)\n"
   ]
  },
  {
   "cell_type": "code",
   "execution_count": 1,
   "metadata": {
    "deletable": false,
    "editable": false
   },
   "outputs": [
    {
     "data": {
      "application/vnd.jupyter.widget-view+json": {
       "model_id": "bdd6dcf906b748dfaeb0165243061873",
       "version_major": 2,
       "version_minor": 0
      },
      "text/plain": [
       "HBox(children=(FloatText(value=7.5, description='Latitude:'), FloatText(value=7.5, description='Longitude:')))"
      ]
     },
     "metadata": {},
     "output_type": "display_data"
    }
   ],
   "source": [
    "############################# Importing all req. libreries ############################################\n",
    "from pymongo import MongoClient\n",
    "import pandas as pd\n",
    "from mpl_toolkits.basemap import Basemap\n",
    "import matplotlib\n",
    "%matplotlib qt\n",
    "import matplotlib.pyplot as plt\n",
    "import ipywidgets as ipw\n",
    "client = MongoClient(\"mongodb://localhost:27017\")\n",
    "database = client[\"Open_Source_DB\"]\n",
    "collection = database[\"Location_Details\"]\n",
    "#collection.createIndex( { location : \"2dsphere\" } )\n",
    "    \n",
    "i_lat =ipw.FloatText(value=7.5,description='Latitude:',disabled=False)\n",
    "i_lon =ipw.FloatText(value=7.5,description='Longitude:',disabled=False)\n",
    "\n",
    "ipw.HBox([i_lat , i_lon ])"
   ]
  },
  {
   "cell_type": "code",
   "execution_count": 2,
   "metadata": {
    "deletable": false,
    "editable": false
   },
   "outputs": [
    {
     "name": "stdout",
     "output_type": "stream",
     "text": [
      "48.775845 -------------- 9.182932\n"
     ]
    }
   ],
   "source": [
    "print( i_lat.value  , '--------------' , i_lon.value )"
   ]
  },
  {
   "cell_type": "code",
   "execution_count": 3,
   "metadata": {
    "deletable": false,
    "editable": false
   },
   "outputs": [
    {
     "name": "stdout",
     "output_type": "stream",
     "text": [
      "{'Entity': 'End User', 'coordinates': [9.180819, 48.782343]}\n",
      "{'Entity': 'End User', 'coordinates': [9.316550999999999, 48.7374]}\n",
      "{'Entity': 'End User', 'coordinates': [9.315456, 48.831538]}\n",
      "{'Entity': 'End User', 'coordinates': [9.195419000000001, 48.893886]}\n",
      "{'Entity': 'End User', 'coordinates': [9.029552, 48.684953]}\n",
      "{'Entity': 'End User', 'coordinates': [9.05, 48.533333]}\n",
      "{'Entity': 'End User', 'coordinates': [9.213697999999999, 48.488779]}\n",
      "{'Entity': 'End User', 'coordinates': [8.737612, 48.716828]}\n",
      "{'Entity': 'End User', 'coordinates': [9.656463, 48.703582]}\n",
      "{'Entity': 'End User', 'coordinates': [8.698922999999999, 48.884361]}\n",
      "{'Entity': 'End User', 'coordinates': [9.220541, 49.13995]}\n",
      "{'Entity': 'End User', 'coordinates': [9.734167, 49.105833000000004]}\n",
      "{'Entity': 'Retailer', 'coordinates': [8.852117999999999, 48.277142]}\n",
      "{'Entity': 'End User', 'coordinates': [8.40444, 49.009365]}\n",
      "{'Entity': 'End User', 'coordinates': [9.151062, 49.353573]}\n",
      "{'Entity': 'End User', 'coordinates': [8.41371, 48.466951]}\n",
      "{'Entity': 'End User', 'coordinates': [10.091336, 48.834439]}\n",
      "{'Entity': 'End User', 'coordinates': [9.683525, 49.281802]}\n",
      "{'Entity': 'End User', 'coordinates': [8.242458000000001, 48.757630999999996]}\n",
      "{'Entity': 'End User', 'coordinates': [9.968956, 48.397053]}\n",
      "{'Entity': 'End User', 'coordinates': [8.209645, 48.858512]}\n",
      "{'Entity': 'End User', 'coordinates': [10.152483, 48.680587]}\n",
      "{'Entity': 'End User', 'coordinates': [9.99028, 48.400724]}\n",
      "{'Entity': 'End User', 'coordinates': [9.230327, 48.088291]}\n",
      "{'Entity': 'End User', 'coordinates': [8.363889, 49.223056]}\n",
      "{'Entity': 'Supplier', 'coordinates': [8.683733, 49.404123]}\n",
      "{'Entity': 'End User', 'coordinates': [8.618248, 48.168228000000006]}\n",
      "{'Entity': 'End User', 'coordinates': [8.431111, 49.320833]}\n",
      "{'Entity': 'End User', 'coordinates': [9.786893, 48.099942]}\n",
      "{'Entity': 'End User', 'coordinates': [10.276950999999999, 48.455989]}\n",
      "{'Entity': 'End User', 'coordinates': [8.116921000000001, 49.198444]}\n",
      "{'Entity': 'End User', 'coordinates': [8.843695, 49.565583000000004]}\n",
      "{'Entity': 'End User', 'coordinates': [8.817702, 47.984644]}\n",
      "{'Entity': 'Retailer', 'coordinates': [8.49358, 48.062262]}\n",
      "{'Entity': 'End User', 'coordinates': [8.446414, 49.481206]}\n",
      "{'Entity': 'End User', 'coordinates': [8.479547, 49.496706]}\n",
      "{'Entity': 'End User', 'coordinates': [7.944946000000001, 48.473768]}\n",
      "{'Entity': 'End User', 'coordinates': [10.495275, 48.581528999999996]}\n",
      "{'Entity': 'End User', 'coordinates': [8.138863, 49.350089000000004]}\n",
      "{'Entity': 'End User', 'coordinates': [8.994017, 49.661484]}\n"
     ]
    }
   ],
   "source": [
    "############################# MongoDB Pipeline  ############################################\n",
    "\n",
    "pipeline = [\n",
    "    {\n",
    "        u\"$geoNear\": {\n",
    "            u\"near\": {\n",
    "                u\"type\": u\"Point\",\n",
    "                u\"coordinates\": [\n",
    "                    i_lon.value,\n",
    "                    i_lat.value\n",
    "                ]\n",
    "            },\n",
    "            u\"distanceField\": u\"dist.calculated\",\n",
    "            u\"maxDistance\": 100000\n",
    "        }\n",
    "    }, \n",
    "    {\n",
    "        u\"$project\": {\n",
    "            u\"Entity\": u\"$Type of User\",\n",
    "            u\"coordinates\": u\"$location.coordinates\",\n",
    "            u\"_id\": 0.0\n",
    "        }\n",
    "    }\n",
    "]\n",
    "\n",
    "cursor = collection.aggregate(\n",
    "    pipeline, \n",
    "    allowDiskUse = False\n",
    ")\n",
    "\n",
    "\n",
    "lats = []\n",
    "lons = []\n",
    "ty = []\n",
    "try:\n",
    "    for doc in cursor:\n",
    "        print(doc)\n",
    "        lats.append(doc[\"coordinates\"][1])\n",
    "        lons.append(doc[\"coordinates\"][0])\n",
    "        ty.append(doc[\"Entity\"])\n",
    "finally:\n",
    "    client.close()\n"
   ]
  },
  {
   "cell_type": "code",
   "execution_count": 4,
   "metadata": {
    "deletable": false,
    "editable": false
   },
   "outputs": [
    {
     "name": "stderr",
     "output_type": "stream",
     "text": [
      "C:\\Users\\anilk\\Anaconda3\\envs\\Final\\lib\\site-packages\\ipykernel_launcher.py:3: MatplotlibDeprecationWarning: \n",
      "The dedent function was deprecated in Matplotlib 3.1 and will be removed in 3.3. Use inspect.cleandoc instead.\n",
      "  This is separate from the ipykernel package so we can avoid doing imports until\n",
      "C:\\Users\\anilk\\Anaconda3\\envs\\Final\\lib\\site-packages\\ipykernel_launcher.py:6: MatplotlibDeprecationWarning: \n",
      "The dedent function was deprecated in Matplotlib 3.1 and will be removed in 3.3. Use inspect.cleandoc instead.\n",
      "  \n",
      "C:\\Users\\anilk\\Anaconda3\\envs\\Final\\lib\\site-packages\\ipykernel_launcher.py:7: MatplotlibDeprecationWarning: \n",
      "The dedent function was deprecated in Matplotlib 3.1 and will be removed in 3.3. Use inspect.cleandoc instead.\n",
      "  import sys\n"
     ]
    }
   ],
   "source": [
    "####################### Visulizing the results in Map ###################################################\n",
    "m = Basemap(projection='mill',\n",
    "                resolution='l') \n",
    "\n",
    "m.drawcoastlines()\n",
    "m.drawcountries(linewidth=0.1)\n",
    "m.drawstates()\n",
    "\n",
    "i = 0\n",
    "for lat , lon in zip(lats,lons):\n",
    "    x,y = m.projtran(lon,lat)\n",
    "    if ty[i] == 'End User' : m.plot(x,y,'g*',markersize=10)\n",
    "    if ty[i] == 'Retailer' : m.plot(x,y,'y*',markersize=10)\n",
    "    if ty[i] == 'Supplier' : m.plot(x,y,'b*',markersize=10)\n",
    "    if ty[i] == 'Manufacturer' : m.plot(x,y,'r*',markersize=10)\n",
    "    i = i+1\n",
    "plt.show()"
   ]
  }
 ],
 "metadata": {
  "celltoolbar": "Edit Metadata",
  "hide_input": false,
  "kernelspec": {
   "display_name": "Python 3",
   "language": "python",
   "name": "python3"
  },
  "language_info": {
   "codemirror_mode": {
    "name": "ipython",
    "version": 3
   },
   "file_extension": ".py",
   "mimetype": "text/x-python",
   "name": "python",
   "nbconvert_exporter": "python",
   "pygments_lexer": "ipython3",
   "version": "3.7.6"
  }
 },
 "nbformat": 4,
 "nbformat_minor": 2
}
