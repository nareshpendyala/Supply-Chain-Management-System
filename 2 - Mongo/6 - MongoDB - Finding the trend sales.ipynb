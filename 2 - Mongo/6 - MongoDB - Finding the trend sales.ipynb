{
 "cells": [
  {
   "cell_type": "raw",
   "metadata": {
    "deletable": false,
    "editable": false
   },
   "source": [
    "--: MONGODB - USER STORY - 3 :-\n",
    "\n",
    "For proper production planning of a given Raw material Supplier, He needs information about selling rate for his own parts over some period of time, and also he wants the parts instock..  Based on this information, he will plan his further produciton plan."
   ]
  },
  {
   "cell_type": "code",
   "execution_count": 1,
   "metadata": {
    "deletable": false,
    "editable": false
   },
   "outputs": [
    {
     "data": {
      "application/vnd.jupyter.widget-view+json": {
       "model_id": "760b3c21501a4623bb9169e52a1e3a0e",
       "version_major": 2,
       "version_minor": 0
      },
      "text/plain": [
       "HBox(children=(Dropdown(description='Supplier - ', options=('NONE', '116ccb1a1604bc88e4d234a8c23f33de', '43031…"
      ]
     },
     "metadata": {},
     "output_type": "display_data"
    }
   ],
   "source": [
    "############################# Importing all req. libreries ############################################\n",
    "import ipywidgets as ipw\n",
    "from pymongo import MongoClient\n",
    "import pandas as pd\n",
    "from mpl_toolkits.basemap import Basemap\n",
    "import matplotlib\n",
    "%matplotlib qt\n",
    "import matplotlib.pyplot as plt\n",
    "from bson.regex import Regex\n",
    "from collections import Counter\n",
    "import numpy as np\n",
    "\n",
    "############################# Selecting the Entity IDs  ############################################\n",
    "ids = pd.read_excel(\"IDs.xlsx\")\n",
    "\n",
    "Sup_id = ipw.Dropdown(\n",
    "    options=list(ids[\"Supplier\"].dropna()),\n",
    "    description = \"Supplier - \", )\n",
    "typ = ipw.Dropdown(\n",
    "    options=list(ids[\"Raw Material Type\"].dropna()),\n",
    "    description = \"Raw mat Typ - \", )\n",
    "ipw.HBox([Sup_id , typ])"
   ]
  },
  {
   "cell_type": "code",
   "execution_count": 2,
   "metadata": {
    "deletable": false,
    "editable": false
   },
   "outputs": [
    {
     "data": {
      "text/plain": [
       "Supplier_Name        Repuestos Samsung\n",
       "Supplier_Address      Calle Quejio, 47\n",
       "Supplier_City                  Seville\n",
       "Supplier_Country                 Spain\n",
       "Supplier_ZIP Code                41006\n",
       "dtype: object"
      ]
     },
     "metadata": {},
     "output_type": "display_data"
    },
    {
     "name": "stdout",
     "output_type": "stream",
     "text": [
      "-------------------------------------------------------------------\n"
     ]
    },
    {
     "data": {
      "text/plain": [
       "'GPU'"
      ]
     },
     "execution_count": 2,
     "metadata": {},
     "output_type": "execute_result"
    }
   ],
   "source": [
    "Sup_id = Sup_id.value\n",
    "typ = typ.value\n",
    "client = MongoClient(\"mongodb://localhost:27017\")\n",
    "database = client[\"SCM_DB\"]\n",
    "\n",
    "############################# Printing the Selected Supplier details  ##################################\n",
    "collection = database[\"Raw_Material_Colleciton\"]\n",
    "cruser = collection.find({\"Supplier ID\": Sup_id})\n",
    "for doc in cruser: \n",
    "    doc_sup = doc[\"Supplier Location Details\"]\n",
    "    display(pd.Series(doc_sup,index=doc_sup.keys()))\n",
    "    break\n",
    "print(\"-------------------------------------------------------------------\")\n",
    "typ"
   ]
  },
  {
   "cell_type": "code",
   "execution_count": 3,
   "metadata": {
    "deletable": false,
    "editable": false
   },
   "outputs": [
    {
     "name": "stdout",
     "output_type": "stream",
     "text": [
      "Temporary Collection created..\n"
     ]
    }
   ],
   "source": [
    "############################# Printing the Selected Mobile Specifications  ##############################\n",
    "collection = database[\"Retailer_orders_DB\"]\n",
    "\n",
    "pipeline_1 = [\n",
    "    {\n",
    "        u\"$unwind\": {\n",
    "            u\"path\": u\"$Order_Items_List\"\n",
    "        }\n",
    "    }, \n",
    "    {\n",
    "        u\"$project\": {\n",
    "            u\"time\": u\"$order_purchase_timestamp\",\n",
    "            u\"Mobile_IMEI\": u\"$Order_Items_List\",\n",
    "            u\"_id\": 0.0\n",
    "        }\n",
    "    }, \n",
    "    {\n",
    "        u\"$out\": u\"temp\"\n",
    "    }\n",
    "]\n",
    "\n",
    "cursor = collection.aggregate(\n",
    "    pipeline_1, \n",
    "    allowDiskUse = False\n",
    ")\n",
    "    \n",
    "print(\"Temporary Collection created..\")"
   ]
  },
  {
   "cell_type": "code",
   "execution_count": 4,
   "metadata": {
    "deletable": false,
    "editable": false
   },
   "outputs": [
    {
     "name": "stdout",
     "output_type": "stream",
     "text": [
      "{'_id': 'Mali-T720MP2', 'sold_on': ['Jun-19', 'Jul-19', 'Oct-19', 'Jul-19', 'Sep-19', 'Oct-19', 'Jul-19', 'Oct-19', 'Oct-19', 'Oct-19', 'Jun-19', 'Aug-19', 'Sep-19', 'Oct-19', 'Jun-19', 'Jul-19', 'Jun-19', 'Jun-19', 'Oct-19', 'Jul-19', 'Oct-19', 'Aug-19', 'Aug-19', 'Jun-19', 'Jun-19', 'Jun-19', 'Jun-19', 'Jul-19', 'Oct-19', 'Jul-19', 'Oct-19', 'Aug-19', 'Oct-19', 'Jul-19', 'Jul-19', 'Jun-19', 'Aug-19', 'Sep-19', 'Oct-19', 'Jun-19', 'Aug-19', 'Aug-19', 'Aug-19', 'Jun-19', 'Jun-19', 'Sep-19', 'Jun-19', 'Sep-19', 'Aug-19', 'Jun-19', 'Jun-19', 'Aug-19', 'Aug-19', 'Oct-19', 'Sep-19', 'Jun-19', 'Jun-19', 'Jul-19', 'Oct-19', 'Jul-19', 'Sep-19', 'Jul-19', 'Oct-19', 'Jul-19', 'Jul-19'], 'Average_avalibility': 246.86153846153846}\n",
      "-----------------------------------------------------------------------------------\n",
      "{'_id': 'Adreno 505 - Sprint', 'sold_on': ['Aug-19', 'Oct-19', 'Oct-19', 'Jul-19', 'Jul-19', 'Jul-19', 'Oct-19', 'Aug-19', 'Jul-19', 'Jun-19', 'Aug-19', 'Jun-19', 'Jul-19', 'Jul-19', 'Jul-19', 'Sep-19', 'Aug-19', 'Jul-19', 'Aug-19', 'Sep-19', 'Oct-19', 'Jun-19', 'Jun-19', 'Aug-19', 'Oct-19', 'Oct-19'], 'Average_avalibility': 430.0}\n",
      "-----------------------------------------------------------------------------------\n",
      "{'_id': 'Mali-T880 MP12', 'sold_on': ['Jun-19', 'Oct-19', 'Jun-19', 'Jul-19', 'Sep-19', 'Sep-19', 'Sep-19', 'Jun-19', 'Jun-19', 'Jun-19', 'Oct-19', 'Oct-19', 'Aug-19', 'Aug-19', 'Aug-19', 'Sep-19', 'Sep-19', 'Sep-19', 'Sep-19', 'Oct-19', 'Aug-19', 'Jun-19', 'Oct-19', 'Jul-19', 'Jun-19', 'Oct-19', 'Jul-19', 'Aug-19', 'Jul-19', 'Oct-19', 'Oct-19', 'Jun-19', 'Jun-19', 'Jul-19', 'Jul-19'], 'Average_avalibility': 255.82857142857142}\n",
      "-----------------------------------------------------------------------------------\n",
      "{'_id': 'Mali-T760MP8', 'sold_on': ['Jun-19', 'Jul-19', 'Sep-19', 'Jul-19', 'Oct-19', 'Jul-19', 'Jun-19', 'Jun-19', 'Sep-19', 'Jun-19', 'Jul-19', 'Sep-19', 'Jun-19', 'Jun-19', 'Jul-19', 'Sep-19', 'Sep-19', 'Jul-19', 'Jul-19', 'Aug-19', 'Jul-19', 'Oct-19', 'Jul-19', 'Aug-19', 'Oct-19', 'Jul-19', 'Aug-19', 'Jul-19', 'Jun-19', 'Sep-19', 'Sep-19', 'Jul-19', 'Jun-19', 'Jul-19', 'Oct-19', 'Jul-19', 'Jun-19', 'Jun-19', 'Jul-19', 'Oct-19', 'Aug-19', 'Jun-19', 'Jul-19', 'Jul-19', 'Aug-19', 'Sep-19', 'Jul-19', 'Oct-19', 'Oct-19', 'Sep-19', 'Jul-19', 'Oct-19', 'Jun-19', 'Jun-19', 'Jun-19', 'Jul-19', 'Sep-19', 'Sep-19', 'Jun-19', 'Jul-19', 'Oct-19', 'Oct-19', 'Jun-19', 'Jun-19', 'Jul-19'], 'Average_avalibility': 176.12307692307692}\n",
      "-----------------------------------------------------------------------------------\n",
      "{'_id': 'Mali-T830MP2', 'sold_on': ['Jun-19', 'Jul-19', 'Oct-19', 'Jun-19', 'Aug-19', 'Aug-19', 'Oct-19', 'Jun-19', 'Aug-19', 'Sep-19', 'Oct-19', 'Jul-19', 'Oct-19', 'Jul-19', 'Oct-19', 'Jul-19', 'Aug-19', 'Aug-19', 'Oct-19', 'Oct-19', 'Oct-19', 'Oct-19', 'Jul-19', 'Aug-19', 'Jul-19', 'Oct-19', 'Aug-19', 'Sep-19', 'Sep-19', 'Sep-19', 'Jul-19', 'Aug-19', 'Aug-19', 'Jul-19', 'Aug-19', 'Oct-19', 'Aug-19', 'Aug-19', 'Aug-19'], 'Average_avalibility': 113.12820512820512}\n",
      "-----------------------------------------------------------------------------------\n",
      "{'_id': 'Adreno 506', 'sold_on': ['Jul-19', 'Jul-19', 'Sep-19', 'Sep-19', 'Oct-19', 'Aug-19', 'Jul-19', 'Aug-19', 'Oct-19', 'Jul-19', 'Oct-19', 'Aug-19', 'Oct-19', 'Sep-19', 'Sep-19', 'Sep-19', 'Jul-19', 'Sep-19', 'Jun-19', 'Jun-19', 'Sep-19', 'Jul-19', 'Oct-19', 'Sep-19', 'Jun-19', 'Jul-19', 'Aug-19', 'Sep-19', 'Sep-19', 'Sep-19', 'Jun-19', 'Oct-19', 'Sep-19', 'Sep-19', 'Aug-19', 'Aug-19', 'Jul-19', 'Aug-19', 'Jul-19', 'Sep-19', 'Jun-19', 'Oct-19', 'Sep-19', 'Aug-19', 'Aug-19', 'Aug-19', 'Sep-19', 'Oct-19', 'Jun-19', 'Oct-19'], 'Average_avalibility': 209.8}\n",
      "-----------------------------------------------------------------------------------\n",
      "{'_id': 'Adreno 510', 'sold_on': ['Jun-19', 'Oct-19', 'Sep-19', 'Sep-19', 'Jun-19', 'Jun-19', 'Aug-19', 'Aug-19', 'Aug-19', 'Aug-19', 'Oct-19', 'Aug-19', 'Oct-19', 'Jul-19', 'Aug-19', 'Oct-19', 'Sep-19', 'Sep-19', 'Oct-19', 'Jun-19', 'Aug-19', 'Jul-19', 'Jul-19', 'Jul-19', 'Jul-19', 'Jun-19', 'Jul-19', 'Aug-19', 'Jul-19', 'Jul-19', 'Aug-19'], 'Average_avalibility': 222.4516129032258}\n",
      "-----------------------------------------------------------------------------------\n",
      "{'_id': 'Mali-G71 MP20 - EMEA', 'sold_on': ['Oct-19', 'Aug-19', 'Oct-19', 'Sep-19', 'Jul-19', 'Aug-19', 'Aug-19', 'Oct-19', 'Jun-19', 'Jun-19', 'Jun-19', 'Oct-19', 'Oct-19', 'Sep-19', 'Jun-19', 'Jun-19', 'Jul-19', 'Sep-19', 'Jun-19', 'Aug-19', 'Jun-19', 'Oct-19', 'Jun-19', 'Jun-19', 'Jun-19', 'Jun-19', 'Jun-19', 'Aug-19', 'Oct-19', 'Jun-19', 'Aug-19', 'Sep-19', 'Jun-19', 'Jun-19', 'Sep-19', 'Jun-19'], 'Average_avalibility': 114.52777777777777}\n",
      "-----------------------------------------------------------------------------------\n",
      "{'_id': 'Adreno 306', 'sold_on': ['Aug-19', 'Oct-19', 'Jun-19', 'Jun-19', 'Jul-19', 'Aug-19', 'Sep-19', 'Jun-19', 'Aug-19', 'Sep-19', 'Jun-19', 'Aug-19', 'Sep-19', 'Oct-19', 'Jul-19', 'Aug-19', 'Jul-19', 'Aug-19', 'Aug-19', 'Oct-19', 'Aug-19', 'Sep-19', 'Aug-19', 'Oct-19', 'Oct-19', 'Jun-19', 'Jul-19', 'Aug-19', 'Jul-19', 'Jul-19', 'Sep-19', 'Sep-19', 'Sep-19', 'Jun-19', 'Jun-19', 'Jul-19', 'Oct-19', 'Aug-19', 'Aug-19', 'Aug-19', 'Jun-19', 'Sep-19', 'Oct-19', 'Aug-19', 'Jun-19', 'Aug-19', 'Jul-19', 'Aug-19', 'Aug-19', 'Oct-19', 'Oct-19', 'Jun-19', 'Oct-19', 'Aug-19', 'Sep-19', 'Aug-19', 'Jul-19', 'Aug-19', 'Aug-19', 'Jun-19', 'Aug-19', 'Sep-19', 'Jul-19', 'Aug-19', 'Aug-19', 'Oct-19', 'Oct-19', 'Sep-19', 'Oct-19', 'Aug-19', 'Jun-19', 'Jun-19', 'Jul-19', 'Jun-19', 'Jul-19', 'Jul-19', 'Jun-19'], 'Average_avalibility': 151.01298701298703}\n",
      "-----------------------------------------------------------------------------------\n",
      "{'_id': 'Adreno 530', 'sold_on': ['Oct-19', 'Oct-19', 'Aug-19', 'Sep-19', 'Jun-19', 'Aug-19', 'Aug-19', 'Sep-19', 'Jun-19', 'Jul-19', 'Aug-19', 'Jul-19', 'Aug-19', 'Jun-19', 'Jun-19', 'Aug-19', 'Sep-19', 'Jul-19', 'Oct-19', 'Oct-19', 'Jul-19', 'Sep-19', 'Aug-19', 'Jul-19', 'Sep-19', 'Oct-19', 'Jul-19', 'Jul-19', 'Aug-19', 'Oct-19', 'Jun-19', 'Jul-19', 'Aug-19', 'Jul-19', 'Jul-19', 'Oct-19', 'Oct-19', 'Oct-19', 'Aug-19', 'Jun-19', 'Jun-19', 'Jun-19', 'Sep-19', 'Jun-19', 'Aug-19', 'Jun-19', 'Oct-19', 'Jun-19', 'Aug-19', 'Aug-19', 'Jun-19', 'Aug-19', 'Sep-19', 'Sep-19', 'Sep-19', 'Aug-19', 'Jul-19', 'Aug-19', 'Oct-19', 'Oct-19', 'Jun-19', 'Jun-19', 'Aug-19', 'Jun-19', 'Oct-19'], 'Average_avalibility': 239.92307692307693}\n",
      "-----------------------------------------------------------------------------------\n",
      "{'_id': 'Mali-T720', 'sold_on': ['Jun-19', 'Jul-19', 'Oct-19', 'Jul-19', 'Sep-19', 'Sep-19', 'Sep-19', 'Jun-19', 'Aug-19', 'Oct-19', 'Jul-19', 'Oct-19', 'Aug-19', 'Sep-19', 'Jul-19', 'Sep-19', 'Jun-19', 'Aug-19', 'Sep-19', 'Jun-19', 'Aug-19', 'Sep-19', 'Aug-19', 'Jun-19', 'Oct-19', 'Jun-19', 'Aug-19', 'Sep-19', 'Jul-19', 'Sep-19', 'Oct-19', 'Oct-19', 'Jun-19', 'Aug-19', 'Oct-19', 'Jun-19', 'Jun-19', 'Oct-19', 'Jun-19', 'Jul-19', 'Sep-19', 'Sep-19', 'Oct-19', 'Sep-19', 'Jul-19', 'Oct-19', 'Aug-19', 'Aug-19', 'Oct-19', 'Jun-19', 'Jul-19', 'Oct-19', 'Jun-19', 'Sep-19', 'Oct-19', 'Oct-19'], 'Average_avalibility': 204.32142857142858}\n",
      "-----------------------------------------------------------------------------------\n",
      "{'_id': 'Mali-400MP2', 'sold_on': ['Aug-19', 'Sep-19', 'Jun-19', 'Jun-19', 'Jun-19', 'Oct-19', 'Jul-19', 'Oct-19', 'Sep-19', 'Jun-19', 'Jun-19', 'Oct-19', 'Sep-19', 'Oct-19', 'Aug-19', 'Oct-19', 'Aug-19', 'Jul-19', 'Oct-19', 'Aug-19', 'Oct-19', 'Jul-19', 'Jul-19', 'Jun-19', 'Oct-19', 'Jun-19', 'Oct-19', 'Aug-19', 'Jun-19', 'Jun-19', 'Jul-19', 'Jul-19', 'Sep-19', 'Sep-19', 'Oct-19', 'Jun-19', 'Jul-19', 'Aug-19', 'Jul-19'], 'Average_avalibility': 269.2307692307692}\n",
      "-----------------------------------------------------------------------------------\n"
     ]
    }
   ],
   "source": [
    "\n",
    "collection = database[\"Raw_Material_Colleciton\"]\n",
    "pipeline_2 = [\n",
    "    {\n",
    "        u\"$match\": {\n",
    "            u\"Supplier ID\": Sup_id,\n",
    "            u\"Raw Material IMEI number\": {\n",
    "                u\"$regex\": Regex(u\".*\"+str(typ)+\".*\")\n",
    "            }\n",
    "        }\n",
    "    }, \n",
    "    {\n",
    "        u\"$unwind\": {\n",
    "            u\"path\": u\"$Manufacturer IMEI Number\"\n",
    "        }\n",
    "    }, \n",
    "    {\n",
    "        u\"$project\": {\n",
    "            u\"_id\": 0.0,\n",
    "            u\"Mobile_IMEI\": u\"$Manufacturer IMEI Number\",\n",
    "            u\"Raw Material Description\": u\"$Raw Material Description\",\n",
    "            u\"Avalibility\": u\"$Avalibility\"\n",
    "        }\n",
    "    }, \n",
    "    {\n",
    "        u\"$lookup\": {\n",
    "            u\"from\": u\"temp\",\n",
    "            u\"localField\": u\"Mobile_IMEI\",\n",
    "            u\"foreignField\": u\"Mobile_IMEI\",\n",
    "            u\"as\": u\"k\"\n",
    "        }\n",
    "    }, \n",
    "    {\n",
    "        u\"$unwind\": {\n",
    "            u\"path\": u\"$k\"\n",
    "        }\n",
    "    }, \n",
    "    {\n",
    "        u\"$project\": {\n",
    "            u\"Raw Material Description\": u\"$Raw Material Description\",\n",
    "            u\"Avalibility\": u\"$Avalibility\",\n",
    "            u\"time\": u\"$k.time\"\n",
    "        }\n",
    "    }, \n",
    "    {\n",
    "        u\"$group\": {\n",
    "            u\"_id\": u\"$Raw Material Description\",\n",
    "            u\"sold_on\": {\n",
    "                u\"$push\": u\"$time\"\n",
    "            },\n",
    "            u\"Average_avalibility\": {\n",
    "                u\"$avg\": u\"$Avalibility\"\n",
    "            }\n",
    "        }\n",
    "    }\n",
    "]\n",
    "cursor = collection.aggregate(\n",
    "    pipeline_2, \n",
    "    allowDiskUse = False\n",
    ")\n",
    "\n",
    "def fun(doc):\n",
    "    doc['sold_on'].sort()\n",
    "    x = list(Counter(doc['sold_on']).keys())\n",
    "    y = list(Counter(doc['sold_on']).values())\n",
    "    label = \"TYPE -- \" + str(doc['_id']) + \" -- Still in Stock \" + str(round(doc['Average_avalibility'],2))\n",
    "    plt.plot(x,y,\"o-\",label=label)\n",
    "    plt.title('Details of \"' + doc_sup[\"Supplier_Name\"] + '\" for \"' + typ + '\"' )\n",
    "    plt.legend()\n",
    "    plt.xticks(np.arange(5), ('Jun-19', 'Jul-19', 'Aug-19', 'Sep-19', 'Oct-19'))\n",
    "    plt.show()\n",
    "    \n",
    "    \n",
    "try:\n",
    "    for doc in cursor:\n",
    "        print(doc)\n",
    "        print(\"-----------------------------------------------------------------------------------\")\n",
    "        fun(doc)\n",
    "finally:\n",
    "    client.close()\n"
   ]
  }
 ],
 "metadata": {
  "celltoolbar": "Edit Metadata",
  "hide_input": false,
  "kernelspec": {
   "display_name": "Python 3",
   "language": "python",
   "name": "python3"
  },
  "language_info": {
   "codemirror_mode": {
    "name": "ipython",
    "version": 3
   },
   "file_extension": ".py",
   "mimetype": "text/x-python",
   "name": "python",
   "nbconvert_exporter": "python",
   "pygments_lexer": "ipython3",
   "version": "3.7.6"
  }
 },
 "nbformat": 4,
 "nbformat_minor": 2
}
