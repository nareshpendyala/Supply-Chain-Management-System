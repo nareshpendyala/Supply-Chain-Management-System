{
 "cells": [
  {
   "cell_type": "code",
   "execution_count": 1,
   "metadata": {},
   "outputs": [],
   "source": [
    "from pymongo import MongoClient\n",
    "import pandas as pd\n",
    "import redis\n",
    "import sys\n",
    "r = redis.Redis(host='localhost', port=6380, db=1,decode_responses=True)\n",
    "client = MongoClient('mongodb://localhost:27017')\n",
    "db = client['Open_Source_DB']\n",
    "collection = db[\"Mobile_Specification_Mongo_Redis\"]"
   ]
  },
  {
   "cell_type": "code",
   "execution_count": 2,
   "metadata": {
    "scrolled": true
   },
   "outputs": [
    {
     "data": {
      "application/vnd.jupyter.widget-view+json": {
       "model_id": "49cf278dfdb441c884ef9f038a7086b5",
       "version_major": 2,
       "version_minor": 0
      },
      "text/plain": [
       "HBox(children=(VBox(children=(Dropdown(description='2G_bands - ', options=('GSM 850 ', 'GSM 850 ', 'GSM 850 ',…"
      ]
     },
     "metadata": {},
     "output_type": "display_data"
    }
   ],
   "source": [
    "import ipywidgets as ipw\n",
    "from ipywidgets import Button, HBox, VBox\n",
    "df = pd.read_csv(\"input.csv\")\n",
    "def drop (fld):\n",
    "    return ipw.Dropdown(options=list(df[fld]),description = str(fld)+\" - \", )\n",
    "li =[]\n",
    "for i in df.columns:\n",
    "    li.append(drop(i))\n",
    "\n",
    "left_box = VBox([li[0], li[1] , li[2], li[3] , li[4], li[5] , li[6], li[7] , li[16]])\n",
    "right_box = VBox([li[8], li[9] , li[10], li[11] , li[12], li[13] , li[14], li[15] , li[17] ])\n",
    "HBox([left_box, right_box])"
   ]
  },
  {
   "cell_type": "code",
   "execution_count": 10,
   "metadata": {},
   "outputs": [
    {
     "data": {
      "text/plain": [
       "{'2G_bands': 'GSM 850 ',\n",
       " '3G_bands': 'HSDPA  1700(AWS) ',\n",
       " '4G_bands': 'LTE band 1(2100)',\n",
       " 'CPU': 'Octa-core 1.6 GHz Cortex-A53',\n",
       " 'Chipset': 'Exynos 7870 Octa',\n",
       " 'Depth': 2.81,\n",
       " 'EDGE': True,\n",
       " 'GPRS': True,\n",
       " 'GPS': 'yes with A-GPS GLONASS BDS',\n",
       " 'GPU': 'Mali-T830MP2',\n",
       " 'Height': 146.2,\n",
       " 'Mobile_Name': 'Samsung_galaxy_A01',\n",
       " 'Mobile_Type': 'Galaxy',\n",
       " 'OS': 'Android 7.1 (nougat)',\n",
       " 'RAM': '2 GB RAM - Global',\n",
       " 'SIM': 'Single SIM (Nano-SIM) or Dual SIM (Nano-SIM| dual stand-by)',\n",
       " 'colors': ' Peach Cloud',\n",
       " 'internal_memory': '16 GB'}"
      ]
     },
     "execution_count": 10,
     "metadata": {},
     "output_type": "execute_result"
    }
   ],
   "source": [
    "query = {}\n",
    "for i in range(0,18):\n",
    "    query[df.columns[i]] = li[i].value\n",
    "query"
   ]
  },
  {
   "cell_type": "code",
   "execution_count": 13,
   "metadata": {},
   "outputs": [
    {
     "name": "stdout",
     "output_type": "stream",
     "text": [
      "Not found in Redis!! Now Created a copy in Redis\n",
      "Printing from Mongo\n",
      "{'2G_bands': 'GSM 850 ', '3G_bands': 'HSDPA  1700(AWS) ', '4G_bands': 'LTE band 1(2100)', 'CPU': 'Octa-core 1.6 GHz Cortex-A53', 'Chipset': 'Exynos 7870 Octa', 'Depth': '2.81', 'EDGE': 'True', 'GPRS': 'True', 'GPS': 'yes with A-GPS GLONASS BDS', 'GPU': 'Mali-T830MP2', 'Height': '146.2', 'Mobile_Name': 'Samsung_galaxy_A01', 'Mobile_Type': 'Galaxy', 'OS': 'Android 7.1 (nougat)', 'RAM': '2 GB RAM - Global', 'SIM': 'Single SIM (Nano-SIM) or Dual SIM (Nano-SIM| dual stand-by)', 'USB': 'microUSB 2.0', 'WLAN': ' hotspot', 'Width': '71.3', 'announced': '2017-06-01T00:00:00.000Z', 'approx_price_EUR': '280', 'audio_jack': 'True', 'battery': 'non-removable Li-Ion 3000 mAh battery', 'bluetooth': ' A2DP', 'colors': ' Peach Cloud', 'display_resolution': '5.2 inches ', 'display_size': '720 x 1280 pixels ', 'display_type': 'Super AMOLED capacitive touchscreen  16M colors', 'internal_memory': '16 GB', 'loud_speaker': 'TRUE', 'memory_card': 'microSD  up to 256 GB (dedicated slot)', 'network_speed 2 1 2': 'HSPA 42.2/5.76 Mbps', 'network_technology': ' LTE', 'primary_camera': '13 MP', 'radio': 'FM radio', 'secondary_camera': '13 MP', 'sensors': 'Fingerprint (front-mounted)', 'status': 'Coming soon. Exp. release 2017  June'}\n"
     ]
    }
   ],
   "source": [
    "red_res = r.hgetall(query['Mobile_Name'])\n",
    "if len(red_res) != 0 :\n",
    "    for i in range(0,18):\n",
    "        if red_res[df.columns[i]] == li[i].value : pass\n",
    "    print(\"Found in Redis\")\n",
    "    print(red_res)\n",
    "else:\n",
    "    cursor = collection.find(query)\n",
    "    try:\n",
    "        for doc in cursor:\n",
    "            del doc['_id']\n",
    "            print(\"Not found in Redis!! Now Created a copy in Redis\")\n",
    "            for k, v in doc.items():doc[k] = str(v)\n",
    "            r.hmset(query['Mobile_Name'],doc)\n",
    "            print(\"Printing from Mongo\")\n",
    "            print(doc)\n",
    "    finally: client.close()"
   ]
  },
  {
   "cell_type": "code",
   "execution_count": null,
   "metadata": {},
   "outputs": [],
   "source": []
  }
 ],
 "metadata": {
  "hide_input": false,
  "kernelspec": {
   "display_name": "Python 3",
   "language": "python",
   "name": "python3"
  },
  "language_info": {
   "codemirror_mode": {
    "name": "ipython",
    "version": 3
   },
   "file_extension": ".py",
   "mimetype": "text/x-python",
   "name": "python",
   "nbconvert_exporter": "python",
   "pygments_lexer": "ipython3",
   "version": "3.7.3"
  }
 },
 "nbformat": 4,
 "nbformat_minor": 4
}
