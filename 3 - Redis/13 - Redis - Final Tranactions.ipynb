{
 "cells": [
  {
   "cell_type": "markdown",
   "metadata": {},
   "source": [
    "-: Redis User Story:- 3 :-\n",
    "\n",
    "We are a group of raw material supplier companies. we all together need a online purchasing system in which any manufacturer can login and purchase our parts. It should follow all TRANSCATION properties from SQL."
   ]
  },
  {
   "cell_type": "code",
   "execution_count": 2,
   "metadata": {},
   "outputs": [
    {
     "data": {
      "text/plain": [
       "True"
      ]
     },
     "execution_count": 2,
     "metadata": {},
     "output_type": "execute_result"
    }
   ],
   "source": [
    "##################### Importing all libreries & connecting to redis server ##########################\n",
    "import redis\n",
    "import pandas as pd\n",
    "r = redis.Redis(host='localhost', port=6379, db=1, decode_responses=True)\n",
    "\n",
    "r.hmset(\"Supplier-1\" , {'Memory Cards': '50', 'Sensors': '20', 'Primary Camaras': '40', 'Batteries': '60'} )\n",
    "r.hmset(\"Supplier-2\" , {'Memory Cards': '40', 'Sensors': '30', 'Primary Camaras': '0', 'Batteries': '70'} )\n",
    "r.hmset(\"Supplier-3\" , {'Memory Cards': '300', 'Sensors': '300', 'Primary Camaras': '530', 'Batteries': '100'} )\n",
    "r.hmset(\"Supplier-4\" , {'Memory Cards': '30', 'Sensors': '250', 'Primary Camaras': '30', 'Batteries': '0'} )\n",
    "r.hmset(\"Supplier-5\" , {'Memory Cards': '320', 'Sensors': '50', 'Primary Camaras': '10', 'Batteries': '50'} )"
   ]
  },
  {
   "cell_type": "code",
   "execution_count": 4,
   "metadata": {},
   "outputs": [
    {
     "data": {
      "application/vnd.jupyter.widget-view+json": {
       "model_id": "ad157fedf50042438e8e23d4f48ca7f1",
       "version_major": 2,
       "version_minor": 0
      },
      "text/plain": [
       "VBox(children=(HBox(children=(Dropdown(description='Supplier - ', options=('Supplier-1', 'Supplier-2', 'Suppli…"
      ]
     },
     "metadata": {},
     "output_type": "display_data"
    },
    {
     "name": "stdout",
     "output_type": "stream",
     "text": [
      "Supplier-1 has   {'Memory Cards': '30', 'Sensors': '15', 'Primary Camaras': '40', 'Batteries': '60'}\n",
      "Tranaction started\n",
      "5 Memory Cards added to your cart\n",
      "2 Sensors added to your cart\n"
     ]
    }
   ],
   "source": [
    "import ipywidgets as ipw\n",
    "def chkclk(b):print(Sup_name.value , \"has  \" , r.hgetall(Sup_name.value))\n",
    "def traclk(b):\n",
    "    global p\n",
    "    p = r.pipeline()\n",
    "    p.multi()\n",
    "    print(\"Tranaction started\")\n",
    "def memclk(b): \n",
    "    amt = int(Mem_car.value)\n",
    "    if (int(r.hget(Sup_name.value ,\"Memory Cards\")) <= 0):\n",
    "        print(\"Memory Cards are not in Stock\")\n",
    "        return\n",
    "    p.hincrby(Sup_name.value ,\"Memory Cards\", -amt)\n",
    "    print(amt , \"Memory Cards added to your cart\")\n",
    "\n",
    "def senclk(b): \n",
    "    amt = int(Sen.value)\n",
    "    if (int(r.hget(Sup_name.value ,\"Sensors\")) <= 0):\n",
    "        print(\"Sensors are not in Stock\")\n",
    "        return\n",
    "    p.hincrby(Sup_name.value ,\"Sensors\", -amt)\n",
    "    print(amt , \"Sensors added to your cart\")\n",
    "    \n",
    "def pcclk(b): \n",
    "    amt = int(pc.value)\n",
    "    if (int(r.hget(Sup_name.value ,\"Primary Camaras\")) <= 0):\n",
    "        print(\"Primary camaras are not in Stock\")\n",
    "        return\n",
    "    p.hincrby(Sup_name.value ,\"Primary Camaras\", -amt)\n",
    "    print(amt , \"Primary Camaras added to your cart\")\n",
    " \n",
    "def baclk(b): \n",
    "    amt = int(ba.value)\n",
    "    if (int(r.hget(Sup_name.value ,\"Batteries\")) <= 0):\n",
    "        print(\"Batteries are not in Stock\")\n",
    "        return\n",
    "    p.hincrby(Sup_name.value ,\"Batteries\", -amt)\n",
    "    print(amt , \"Battries added to your cart\")\n",
    "    \n",
    "def buyclk(b):\n",
    "    res = p.execute()\n",
    "    if len(res)==0: print(\"Tranaction Failed.. There is no suficient inventory instock avilable\")\n",
    "    else : print(\"Tranaction Completed\")\n",
    "    print(\"After Tranaction\",Sup_name.value, \"has\" , r.hgetall(Sup_name.value))\n",
    "    \n",
    "    \n",
    "Sup_name = ipw.Dropdown(\n",
    "    options=list([\"Supplier-1\",\"Supplier-2\",\"Supplier-3\",\"Supplier-4\",\"Supplier-5\"]),\n",
    "    description = \"Supplier - \", )\n",
    "chk_btn = ipw.Button(description=\"Check Inventory\")\n",
    "chk_btn.on_click(chkclk)\n",
    "\n",
    "tra_btn = ipw.Button(description=\"Start Tranaction ?\")\n",
    "tra_btn.on_click(traclk)\n",
    "\n",
    "\n",
    "Mem_car = ipw.Text( description = \"Mem Cards - \" )\n",
    "mem_btn = ipw.Button(description=\"Apply\")\n",
    "mem_btn.on_click(memclk)\n",
    "\n",
    "Sen = ipw.Text( description = \"Sensors - \" )\n",
    "sen_btn = ipw.Button(description=\"Apply\")\n",
    "sen_btn.on_click(senclk)\n",
    "\n",
    "pc = ipw.Text( description = \"Primary Camaras - \" )\n",
    "pc_btn = ipw.Button(description=\"Apply\")\n",
    "pc_btn.on_click(pcclk)\n",
    "\n",
    "ba = ipw.Text( description = \"Batteries - \" )\n",
    "ba_btn = ipw.Button(description=\"Apply\")\n",
    "ba_btn.on_click(baclk)\n",
    "\n",
    "buy_btn = ipw.Button(description=\"Proceed 2 Buy\")\n",
    "buy_btn.on_click(buyclk)\n",
    "\n",
    "ipw.VBox([ipw.HBox([Sup_name,chk_btn]) ,\n",
    "          tra_btn , \n",
    "          ipw.HBox([Mem_car,mem_btn]),\n",
    "          ipw.HBox([Sen,sen_btn]),\n",
    "         ipw.HBox([pc,pc_btn]),\n",
    "         ipw.HBox([ba,ba_btn]),\n",
    "         buy_btn])\n"
   ]
  }
 ],
 "metadata": {
  "hide_input": false,
  "kernelspec": {
   "display_name": "Python 3",
   "language": "python",
   "name": "python3"
  },
  "language_info": {
   "codemirror_mode": {
    "name": "ipython",
    "version": 3
   },
   "file_extension": ".py",
   "mimetype": "text/x-python",
   "name": "python",
   "nbconvert_exporter": "python",
   "pygments_lexer": "ipython3",
   "version": "3.7.4"
  }
 },
 "nbformat": 4,
 "nbformat_minor": 2
}
