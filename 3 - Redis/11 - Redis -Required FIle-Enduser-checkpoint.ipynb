{
 "cells": [
  {
   "cell_type": "code",
   "execution_count": 1,
   "metadata": {},
   "outputs": [],
   "source": [
    "# !pip install ipyleaflet\n",
    "# !pip install redis\n",
    "import redis\n",
    "import time\n",
    "import pandas as pd\n",
    "from mpl_toolkits.basemap import Basemap\n",
    "import matplotlib\n",
    "%matplotlib qt\n",
    "import matplotlib.pyplot as plt\n",
    "from bson import ObjectId\n",
    "from IPython.display import display\n",
    "from IPython.display import Image\n"
   ]
  },
  {
   "cell_type": "code",
   "execution_count": null,
   "metadata": {},
   "outputs": [
    {
     "name": "stderr",
     "output_type": "stream",
     "text": [
      "C:\\Users\\anilk\\Anaconda3\\envs\\Final\\lib\\site-packages\\ipykernel_launcher.py:5: MatplotlibDeprecationWarning: \n",
      "The dedent function was deprecated in Matplotlib 3.1 and will be removed in 3.3. Use inspect.cleandoc instead.\n",
      "  \"\"\"\n",
      "C:\\Users\\anilk\\Anaconda3\\envs\\Final\\lib\\site-packages\\ipykernel_launcher.py:8: MatplotlibDeprecationWarning: \n",
      "The dedent function was deprecated in Matplotlib 3.1 and will be removed in 3.3. Use inspect.cleandoc instead.\n",
      "  \n"
     ]
    },
    {
     "name": "stdout",
     "output_type": "stream",
     "text": [
      "48.746996\n",
      "48.746996\n"
     ]
    }
   ],
   "source": [
    "r = redis.Redis(host='localhost',port=6379 , db = 0)\n",
    "r.set_response_callback('HGET', float)\n",
    "\n",
    "m = Basemap(projection='mill',\n",
    "                resolution='l') \n",
    "\n",
    "m.drawcoastlines()\n",
    "m.drawcountries(linewidth=0.1)\n",
    "for i in range(1,100):\n",
    "    lat = r.hget(name = \"loc\" , key = \"ger_del_1_lat\")\n",
    "    lon = r.hget(name = \"loc\" , key = \"ger_del_1_lon\")\n",
    "    x,y = m.projtran(lon,lat)\n",
    "    m.plot(x,y,'c*',markersize=15)\n",
    "    print(lat)\n",
    "    time.sleep(3)\n"
   ]
  },
  {
   "cell_type": "code",
   "execution_count": null,
   "metadata": {},
   "outputs": [],
   "source": [
    "####################### Visulizing the results in Map ###################################################\n",
    "m = Basemap(projection='mill',\n",
    "                resolution='l') \n",
    "\n",
    "m.drawcoastlines()\n",
    "m.drawcountries(linewidth=0.1)\n",
    "\n",
    "for i in :\n",
    "    x,y = m.projtran(lon,lat)\n",
    "    m.plot(x,y,'c*',markersize=15)\n",
    "plt.show()"
   ]
  }
 ],
 "metadata": {
  "hide_input": false,
  "kernelspec": {
   "display_name": "Python 3",
   "language": "python",
   "name": "python3"
  },
  "language_info": {
   "codemirror_mode": {
    "name": "ipython",
    "version": 3
   },
   "file_extension": ".py",
   "mimetype": "text/x-python",
   "name": "python",
   "nbconvert_exporter": "python",
   "pygments_lexer": "ipython3",
   "version": "3.7.6"
  }
 },
 "nbformat": 4,
 "nbformat_minor": 2
}
