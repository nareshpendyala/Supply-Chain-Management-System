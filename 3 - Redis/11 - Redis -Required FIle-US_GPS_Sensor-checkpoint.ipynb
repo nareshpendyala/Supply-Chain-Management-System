{
 "cells": [
  {
   "cell_type": "code",
   "execution_count": 3,
   "metadata": {},
   "outputs": [],
   "source": [
    "import pandas as pd\n",
    "import time\n",
    "df = pd.read_csv(\"US Location data.csv\")"
   ]
  },
  {
   "cell_type": "code",
   "execution_count": null,
   "metadata": {},
   "outputs": [
    {
     "name": "stdout",
     "output_type": "stream",
     "text": [
      "Generating US Data.....\n",
      "Generating US Data.....\n",
      "Generating US Data.....\n",
      "Generating US Data.....\n",
      "Generating US Data.....\n",
      "Generating US Data.....\n",
      "Generating US Data.....\n",
      "Generating US Data.....\n",
      "Generating US Data.....\n",
      "Generating US Data.....\n",
      "Generating US Data.....\n",
      "Generating US Data.....\n",
      "Generating US Data.....\n",
      "Generating US Data.....\n",
      "Generating US Data.....\n",
      "Generating US Data.....\n",
      "Generating US Data.....\n",
      "Generating US Data.....\n",
      "Generating US Data.....\n",
      "Generating US Data.....\n",
      "Generating US Data.....\n",
      "Generating US Data.....\n",
      "Generating US Data.....\n",
      "Generating US Data.....\n",
      "Generating US Data.....\n",
      "Generating US Data.....\n",
      "Generating US Data.....\n",
      "Generating US Data.....\n",
      "Generating US Data.....\n",
      "Generating US Data.....\n",
      "Generating US Data.....\n",
      "Generating US Data.....\n",
      "Generating US Data.....\n",
      "Generating US Data.....\n",
      "Generating US Data.....\n",
      "Generating US Data.....\n",
      "Generating US Data.....\n",
      "Generating US Data.....\n",
      "Generating US Data.....\n",
      "Generating US Data.....\n",
      "Generating US Data.....\n",
      "Generating US Data.....\n",
      "Generating US Data.....\n",
      "Generating US Data.....\n",
      "Generating US Data.....\n",
      "Generating US Data.....\n",
      "Generating US Data.....\n",
      "Generating US Data.....\n",
      "Generating US Data.....\n",
      "Generating US Data.....\n",
      "Generating US Data.....\n",
      "Generating US Data.....\n",
      "Generating US Data.....\n",
      "Generating US Data.....\n",
      "Generating US Data.....\n"
     ]
    }
   ],
   "source": [
    "import redis\n",
    "r = redis.Redis(host='localhost', port=8000, db=0)\n",
    "for row in df.iterrows():\n",
    "    r.hmset(\"loc_us\",(row[1]).to_dict())\n",
    "    print(\"Generating US Data.....\")\n",
    "    time.sleep(3)"
   ]
  }
 ],
 "metadata": {
  "hide_input": false,
  "kernelspec": {
   "display_name": "Python 3",
   "language": "python",
   "name": "python3"
  },
  "language_info": {
   "codemirror_mode": {
    "name": "ipython",
    "version": 3
   },
   "file_extension": ".py",
   "mimetype": "text/x-python",
   "name": "python",
   "nbconvert_exporter": "python",
   "pygments_lexer": "ipython3",
   "version": "3.7.3"
  },
  "widgets": {
   "application/vnd.jupyter.widget-state+json": {
    "state": {},
    "version_major": 2,
    "version_minor": 0
   }
  }
 },
 "nbformat": 4,
 "nbformat_minor": 4
}
