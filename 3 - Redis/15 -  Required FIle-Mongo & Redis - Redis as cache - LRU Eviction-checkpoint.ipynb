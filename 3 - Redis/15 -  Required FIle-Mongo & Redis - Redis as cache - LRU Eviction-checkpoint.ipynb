{
 "cells": [
  {
   "cell_type": "markdown",
   "metadata": {},
   "source": [
    "Redis + Mongo User Story :-\n",
    "\n",
    "As a global mobile company, we have huge number of different types of configurated mobiles. All the information is stored in MongoDB. we are getting a lot complaints from custmoers, stating as fetching data from DB is very very slow.\n",
    "\n",
    "We need an in-memory DB, which can help us to keep some data temporarly and server customers without latency."
   ]
  },
  {
   "cell_type": "code",
   "execution_count": 1,
   "metadata": {},
   "outputs": [],
   "source": [
    "from pymongo import MongoClient\n",
    "import pandas as pd\n",
    "import redis\n",
    "import sys\n",
    "r = redis.Redis(host='localhost', port=6380, db=1,decode_responses=True)\n",
    "client = MongoClient('mongodb://localhost:27017')\n",
    "db = client['Open_Source_DB']\n",
    "collection = db[\"Mobile_Specification_Mongo_Redis\"]"
   ]
  },
  {
   "cell_type": "code",
   "execution_count": 16,
   "metadata": {
    "scrolled": true
   },
   "outputs": [
    {
     "data": {
      "application/vnd.jupyter.widget-view+json": {
       "model_id": "238209ccf5fc4e0290ed7026556a9063",
       "version_major": 2,
       "version_minor": 0
      },
      "text/plain": [
       "HBox(children=(VBox(children=(Dropdown(description='2G_bands - ', options=('gsm 850 ', 'gsm 850 ', 'gsm 850 ',…"
      ]
     },
     "metadata": {},
     "output_type": "display_data"
    }
   ],
   "source": [
    "import ipywidgets as ipw\n",
    "from ipywidgets import Button, HBox, VBox\n",
    "df = pd.read_csv(\"input.csv\")\n",
    "def drop (fld):\n",
    "    return ipw.Dropdown(options=list(df[fld]),description = str(fld)+\" - \", )\n",
    "li =[]\n",
    "for i in df.columns:\n",
    "    li.append(drop(i))\n",
    "\n",
    "left_box = VBox([li[0], li[1] , li[2], li[3] , li[4], li[5] , li[6], li[7] , li[16]])\n",
    "right_box = VBox([li[8], li[9] , li[10], li[11] , li[12], li[13] , li[14], li[15] , li[17] ])\n",
    "\n",
    "HBox([left_box, right_box])"
   ]
  },
  {
   "cell_type": "code",
   "execution_count": 28,
   "metadata": {},
   "outputs": [],
   "source": [
    "tmp =[]\n",
    "for ind in df.columns[:18]:\n",
    "    tmp.append(df.to_dict()[ind][30])\n",
    "li[0].value = tmp[0]\n",
    "li[1].value = tmp[1]\n",
    "li[2].value = tmp[2]\n",
    "li[3].value = tmp[3]\n",
    "li[4].value = tmp[4]\n",
    "li[5].value = tmp[5]\n",
    "li[6].value = tmp[6]\n",
    "li[7].value = tmp[7]\n",
    "li[8].value = tmp[8]\n",
    "li[9].value = tmp[9]\n",
    "li[10].value = tmp[10]\n",
    "li[11].value = tmp[11]\n",
    "li[12].value = tmp[12]\n",
    "li[13].value = tmp[13]\n",
    "li[14].value = tmp[14]\n",
    "li[15].value = tmp[15]\n",
    "li[16].value = tmp[16]\n",
    "li[17].value = tmp[17]"
   ]
  },
  {
   "cell_type": "code",
   "execution_count": 29,
   "metadata": {},
   "outputs": [
    {
     "data": {
      "text/plain": [
       "{'2G_bands': 'gsm 850 ',\n",
       " '3G_bands': 'hsdpa 850 ',\n",
       " '4G_bands': 'lte band 1(2100)',\n",
       " 'CPU': 'quad-core (2x2.15 ghz kryo & 2x1.6 ghz kryo)',\n",
       " 'Chipset': 'qualcomm msm8996 snapdragon 820',\n",
       " 'Depth': '2.91',\n",
       " 'GPS': 'yes with a-gps glonass',\n",
       " 'GPU': 'adreno 530',\n",
       " 'Height': '153.5',\n",
       " 'Mobile_Name': 'samsung shark 3',\n",
       " 'Mobile_Type': 'not galaxy',\n",
       " 'OS': 'android 6.0.1 (marshmallow)',\n",
       " 'RAM': '4 gb ram',\n",
       " 'SIM': 'nano-sim',\n",
       " 'USB': ' type-c 1.0 reversible connector',\n",
       " 'WLAN': ' dual-band',\n",
       " 'Width': '73.9',\n",
       " 'announced': '2016-08-01t00:00:00.000z'}"
      ]
     },
     "execution_count": 29,
     "metadata": {},
     "output_type": "execute_result"
    }
   ],
   "source": [
    "query = {}\n",
    "for i in range(0,18):\n",
    "    query[df.columns[i]] = str(li[i].value)\n",
    "query\n"
   ]
  },
  {
   "cell_type": "code",
   "execution_count": 31,
   "metadata": {},
   "outputs": [
    {
     "name": "stdout",
     "output_type": "stream",
     "text": [
      "Found in Redis and printing from redis\n",
      "{'2G_bands': 'gsm 850 ', '3G_bands': 'hsdpa 850 ', '4G_bands': 'lte band 1(2100)', 'CPU': 'quad-core (2x2.15 ghz kryo & 2x1.6 ghz kryo)', 'Chipset': 'qualcomm msm8996 snapdragon 820', 'Depth': '2.91', 'GPS': 'yes with a-gps glonass', 'GPU': 'adreno 530', 'Height': '153.5', 'Mobile_Name': 'samsung shark 3', 'Mobile_Type': 'not galaxy', 'OS': 'android 6.0.1 (marshmallow)', 'RAM': '4 gb ram', 'SIM': 'nano-sim', 'USB': ' type-c 1.0 reversible connector', 'WLAN': ' dual-band', 'Width': '73.9', 'announced': '2016-08-01t00:00:00.000z', 'approx_price_EUR': '760', 'battery': 'non-removable li-ion 3500 mah battery', 'bluetooth': '4.2', 'colors': ' silver titanium', 'display_resolution': '5.7 inches ', 'display_size': '1440 x 2560 pixels ', 'display_type': 'super amoled capacitive touchscreen  16m colors', 'internal_memory': '64 gb', 'memory_card': 'microsd  up to 256 gb (dedicated slot)', 'network_speed 2 1 2': 'hspa 42.2/5.76 mbps', 'network_technology': ' hspa ', 'primary_camera': '12 mp', 'radio': 'no', 'secondary_camera': '5 mp', 'sensors': 'iris scanner', 'status': 'available. released 2016  september'}\n"
     ]
    }
   ],
   "source": [
    "red_res = r.hgetall(query['Mobile_Name'])\n",
    "if len(red_res) != 0 :\n",
    "    for i in range(0,18):\n",
    "        if red_res[df.columns[i]] == li[i].value : pass\n",
    "    print(\"Found in Redis and printing from redis\")\n",
    "    print(red_res)\n",
    "else:\n",
    "    cursor = collection.find(query)\n",
    "    try:\n",
    "        for doc in cursor:\n",
    "            del doc['_id']\n",
    "            print(\"Not found in Redis!! Now Created a copy in Redis\")\n",
    "            for k, v in doc.items():doc[k] = str(v)\n",
    "            r.hmset(query['Mobile_Name'],doc)\n",
    "            print(\"Printing from Mongo\")\n",
    "            print(doc)\n",
    "    finally: client.close()"
   ]
  }
 ],
 "metadata": {
  "hide_input": false,
  "kernelspec": {
   "display_name": "Python 3",
   "language": "python",
   "name": "python3"
  },
  "language_info": {
   "codemirror_mode": {
    "name": "ipython",
    "version": 3
   },
   "file_extension": ".py",
   "mimetype": "text/x-python",
   "name": "python",
   "nbconvert_exporter": "python",
   "pygments_lexer": "ipython3",
   "version": "3.7.6"
  }
 },
 "nbformat": 4,
 "nbformat_minor": 4
}
