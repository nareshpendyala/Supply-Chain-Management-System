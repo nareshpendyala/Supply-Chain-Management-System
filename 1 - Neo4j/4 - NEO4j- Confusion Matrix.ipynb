{
 "cells": [
  {
   "cell_type": "raw",
   "metadata": {
    "deletable": false,
    "editable": false
   },
   "source": [
    "NEO4J User Story - 1 :- As a End user, I want to buy a Mobile. Before buying it, I need information about the number of Reviews (which Type of reviews) and number of Complaints raised against to that mobile (which Type of reviews). Give me Index (percentage) for that perticular type of output."
   ]
  },
  {
   "cell_type": "markdown",
   "metadata": {},
   "source": [
    "Hint :- Please dont forget to start \"Complaints & Review Graph\" in Neo4J"
   ]
  },
  {
   "cell_type": "code",
   "execution_count": 77,
   "metadata": {
    "deletable": false,
    "editable": false
   },
   "outputs": [
    {
     "data": {
      "application/vnd.jupyter.widget-view+json": {
       "model_id": "28d4cacd2f2e4a709bdb0529e151d156",
       "version_major": 2,
       "version_minor": 0
      },
      "text/plain": [
       "Dropdown(description='Select Mobile - ', options=('NONE', 'Samsung C3500 Monte Bar', 'Samsung Intercept', 'Sam…"
      ]
     },
     "metadata": {},
     "output_type": "display_data"
    }
   ],
   "source": [
    "############################ Importing All Libreries & collecting input ################################\n",
    "from py2neo import Graph,Node,Relationship\n",
    "import pandas as pd\n",
    "import ipywidgets as ipw\n",
    "df = pd.read_excel(\"IDs.xlsx\")\n",
    "g = Graph()\n",
    "i = ipw.Dropdown(\n",
    "    options=list(df[\"Mobile Names_Neo4J\"].dropna()),\n",
    "    description = \"Select Mobile - \", )\n",
    "i\n"
   ]
  },
  {
   "cell_type": "code",
   "execution_count": 78,
   "metadata": {
    "deletable": false,
    "editable": false
   },
   "outputs": [
    {
     "data": {
      "text/plain": [
       "'Samsung Galaxy S6 edge+ Duos'"
      ]
     },
     "execution_count": 78,
     "metadata": {},
     "output_type": "execute_result"
    }
   ],
   "source": [
    "################################## Verifing Selected Input ######################################\n",
    "input = i.value\n",
    "input"
   ]
  },
  {
   "cell_type": "code",
   "execution_count": 1,
   "metadata": {
    "deletable": false,
    "editable": false
   },
   "outputs": [
    {
     "ename": "TypeError",
     "evalue": "can only concatenate str (not \"method\") to str",
     "output_type": "error",
     "traceback": [
      "\u001b[1;31m---------------------------------------------------------------------------\u001b[0m",
      "\u001b[1;31mTypeError\u001b[0m                                 Traceback (most recent call last)",
      "\u001b[1;32m<ipython-input-1-41dca1c8f3f3>\u001b[0m in \u001b[0;36m<module>\u001b[1;34m\u001b[0m\n\u001b[0;32m     28\u001b[0m \u001b[0mMATCH\u001b[0m \u001b[0mp\u001b[0m\u001b[1;33m=\u001b[0m\u001b[1;33m(\u001b[0m\u001b[0ms\u001b[0m\u001b[1;33m:\u001b[0m\u001b[0mSentiment\u001b[0m\u001b[1;33m)\u001b[0m \u001b[1;33m<\u001b[0m\u001b[1;33m-\u001b[0m\u001b[1;33m[\u001b[0m\u001b[1;33m:\u001b[0m\u001b[0mSENTIMENT_DETAILS\u001b[0m\u001b[1;33m]\u001b[0m\u001b[1;33m-\u001b[0m\u001b[1;33m(\u001b[0m\u001b[0mc\u001b[0m\u001b[1;33m:\u001b[0m\u001b[0mComplaint\u001b[0m\u001b[1;33m)\u001b[0m \u001b[1;33m-\u001b[0m\u001b[1;33m[\u001b[0m\u001b[0md\u001b[0m\u001b[1;33m:\u001b[0m\u001b[0mCOMPLAINT_AGAINST\u001b[0m\u001b[1;33m]\u001b[0m\u001b[1;33m->\u001b[0m\u001b[1;33m\u001b[0m\u001b[1;33m\u001b[0m\u001b[0m\n\u001b[0;32m     29\u001b[0m \u001b[1;33m(\u001b[0m\u001b[0mo\u001b[0m\u001b[1;33m:\u001b[0m\u001b[0mOrder\u001b[0m\u001b[1;33m)\u001b[0m\u001b[1;33m-\u001b[0m\u001b[1;33m[\u001b[0m\u001b[1;33m:\u001b[0m\u001b[0mPURCHASED_DETAILS\u001b[0m\u001b[1;33m]\u001b[0m\u001b[1;33m->\u001b[0m\u001b[1;33m(\u001b[0m\u001b[0mm\u001b[0m\u001b[1;33m:\u001b[0m\u001b[0mMobile\u001b[0m\u001b[1;33m)\u001b[0m\u001b[1;33m-\u001b[0m\u001b[1;33m[\u001b[0m\u001b[1;33m:\u001b[0m\u001b[0mIS_A\u001b[0m\u001b[1;33m]\u001b[0m\u001b[1;33m->\u001b[0m\u001b[1;33m(\u001b[0m\u001b[0mt\u001b[0m\u001b[1;33m:\u001b[0m\u001b[0mMobile_Type\u001b[0m\u001b[1;33m)\u001b[0m\u001b[1;33m\u001b[0m\u001b[1;33m\u001b[0m\u001b[0m\n\u001b[1;32m---> 30\u001b[1;33m \u001b[0mWITH\u001b[0m \u001b[1;34m\"''' + input + '''\"\u001b[0m \u001b[1;32mas\u001b[0m \u001b[0mmob\u001b[0m\u001b[1;33m\u001b[0m\u001b[1;33m\u001b[0m\u001b[0m\n\u001b[0m\u001b[0;32m     31\u001b[0m \u001b[0mWHERE\u001b[0m \u001b[0ms\u001b[0m\u001b[1;33m.\u001b[0m\u001b[0mSentiment\u001b[0m \u001b[1;33m=\u001b[0m \u001b[1;34m\"Negative\"\u001b[0m \u001b[0mAND\u001b[0m \u001b[0mm\u001b[0m\u001b[1;33m.\u001b[0m\u001b[0mMobile_Name\u001b[0m \u001b[1;33m=\u001b[0m \u001b[0mmob\u001b[0m\u001b[1;33m\u001b[0m\u001b[1;33m\u001b[0m\u001b[0m\n\u001b[0;32m     32\u001b[0m \u001b[0mWITH\u001b[0m \u001b[0mCOUNT\u001b[0m\u001b[1;33m(\u001b[0m\u001b[1;33m*\u001b[0m\u001b[1;33m)\u001b[0m \u001b[0mAS\u001b[0m \u001b[0mnum\u001b[0m\u001b[1;33m\u001b[0m\u001b[1;33m\u001b[0m\u001b[0m\n",
      "\u001b[1;31mTypeError\u001b[0m: can only concatenate str (not \"method\") to str"
     ]
    }
   ],
   "source": [
    "########################################## Neo4J Query ###########################################\n",
    "q = '''MATCH p=(r:Rating)<-[:RATING_DETAILS]-(rev:Review)-[d:REVIEW_ON]->(m:Mobile)-[:IS_A]->(t:Mobile_Type)\n",
    "WITH \"''' + input + '''\" as mob \n",
    "WHERE (r.Rating = \"10\" OR r.Rating = \"9\" OR r.Rating = \"8\" OR r.Rating = \"7\" OR r.Rating = \"6\") AND m.Mobile_Name = mob\n",
    "WITH COUNT(*) AS num\n",
    "WITH num , apoc.number.exact.div(toString(num),'828.15',3,'CEILING') AS ind\n",
    "RETURN {Postive_Ratings : num , index : ind } AS result\n",
    "\n",
    "UNION ALL\n",
    "\n",
    "MATCH p=(r:Rating)<-[:RATING_DETAILS]-(rev:Review)-[d:REVIEW_ON]->(m:Mobile)-[:IS_A]->(t:Mobile_Type)\n",
    "WITH \"''' + input + '''\" as mob \n",
    "WHERE (r.Rating = \"5\" OR r.Rating = \"4\" OR r.Rating = \"3\" OR r.Rating = \"2\" OR r.Rating = \"1\") AND m.Mobile_Name = mob\n",
    "WITH COUNT(*) AS num\n",
    "WITH num , apoc.number.exact.div(toString(num),'828.15',3,'CEILING') AS ind\n",
    "RETURN {Negative_Ratings : num , index : ind } AS result\n",
    "\n",
    "UNION ALL\n",
    "MATCH p=(s:Sentiment) <-[:SENTIMENT_DETAILS]-(c:Complaint) -[d:COMPLAINT_AGAINST]-> \n",
    "(o:Order)-[:PURCHASED_DETAILS]->(m:Mobile)-[:IS_A]->(t:Mobile_Type)\n",
    "WITH \"''' + input + '''\" as mob \n",
    "WHERE s.Sentiment = \"Positive\" AND m.Mobile_Name = mob\n",
    "WITH COUNT(*) AS num\n",
    "WITH num , apoc.number.exact.div(toString(num),'80',3,'CEILING') AS ind\n",
    "RETURN {Positive_Sentiment_Complaints : num , index : ind } AS result\n",
    "\n",
    "UNION ALL\n",
    "MATCH p=(s:Sentiment) <-[:SENTIMENT_DETAILS]-(c:Complaint) -[d:COMPLAINT_AGAINST]->\n",
    "(o:Order)-[:PURCHASED_DETAILS]->(m:Mobile)-[:IS_A]->(t:Mobile_Type)\n",
    "WITH \"''' + input + '''\" as mob  \n",
    "WHERE s.Sentiment = \"Negative\" AND m.Mobile_Name = mob\n",
    "WITH COUNT(*) AS num\n",
    "WITH num , apoc.number.exact.div(toString(num),'80',3,'CEILING') AS ind\n",
    "RETURN {Negative_Sentiments_Complaints : num , index : ind } AS result'''"
   ]
  },
  {
   "cell_type": "code",
   "execution_count": 80,
   "metadata": {
    "deletable": false,
    "editable": false
   },
   "outputs": [
    {
     "name": "stdout",
     "output_type": "stream",
     "text": [
      "\"Samsung Galaxy S6 edge+ Duos \" has the following results\n"
     ]
    },
    {
     "data": {
      "text/plain": [
       "array([{'Postive_Ratings': 1093, 'index': '1.32'},\n",
       "       {'index': '1.65', 'Negative_Ratings': 1366},\n",
       "       {'Positive_Sentiment_Complaints': 107, 'index': '1.34'},\n",
       "       {'Negative_Sentiments_Complaints': 112, 'index': '1.4'}],\n",
       "      dtype=object)"
      ]
     },
     "execution_count": 80,
     "metadata": {},
     "output_type": "execute_result"
    }
   ],
   "source": [
    "############################### Passing query to Neo4J & getting results ###############################\n",
    "df = g.run(q).to_data_frame()\n",
    "print('\"' + input , '\" has the following results')\n",
    "df['result'].values"
   ]
  }
 ],
 "metadata": {
  "celltoolbar": "Edit Metadata",
  "hide_input": false,
  "kernelspec": {
   "display_name": "Python 3",
   "language": "python",
   "name": "python3"
  },
  "language_info": {
   "codemirror_mode": {
    "name": "ipython",
    "version": 3
   },
   "file_extension": ".py",
   "mimetype": "text/x-python",
   "name": "python",
   "nbconvert_exporter": "python",
   "pygments_lexer": "ipython3",
   "version": "3.7.4"
  }
 },
 "nbformat": 4,
 "nbformat_minor": 4
}
