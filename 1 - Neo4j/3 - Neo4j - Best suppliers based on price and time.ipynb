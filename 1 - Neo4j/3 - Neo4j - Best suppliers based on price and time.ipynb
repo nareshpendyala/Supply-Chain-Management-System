{
 "cells": [
  {
   "cell_type": "markdown",
   "metadata": {
    "deletable": false,
    "editable": false
   },
   "source": [
    "NEO4J User Story -  As manufacturer I would like to evaluate the service level from my supplier, by comparing the order response time and price per piece for parts."
   ]
  },
  {
   "cell_type": "markdown",
   "metadata": {},
   "source": [
    "Plese Start \" Prediction of product quantity GRAPH\" in Neo4J"
   ]
  },
  {
   "cell_type": "code",
   "execution_count": 3,
   "metadata": {
    "deletable": false,
    "editable": false
   },
   "outputs": [
    {
     "data": {
      "text/html": [
       "<div>\n",
       "<style scoped>\n",
       "    .dataframe tbody tr th:only-of-type {\n",
       "        vertical-align: middle;\n",
       "    }\n",
       "\n",
       "    .dataframe tbody tr th {\n",
       "        vertical-align: top;\n",
       "    }\n",
       "\n",
       "    .dataframe thead th {\n",
       "        text-align: right;\n",
       "    }\n",
       "</style>\n",
       "<table border=\"1\" class=\"dataframe\">\n",
       "  <thead>\n",
       "    <tr style=\"text-align: right;\">\n",
       "      <th></th>\n",
       "      <th>product</th>\n",
       "      <th>pieceprice</th>\n",
       "      <th>approved</th>\n",
       "      <th>ordered</th>\n",
       "      <th>s.id</th>\n",
       "    </tr>\n",
       "  </thead>\n",
       "  <tbody>\n",
       "    <tr>\n",
       "      <th>0</th>\n",
       "      <td>IPS LCD capacitive touchscreen  16M colors</td>\n",
       "      <td>11.685304</td>\n",
       "      <td>2019-10-18</td>\n",
       "      <td>2019-10-18</td>\n",
       "      <td>116ccb1a1604bc88e4d234a8c23f33de</td>\n",
       "    </tr>\n",
       "    <tr>\n",
       "      <th>1</th>\n",
       "      <td>IPS LCD capacitive touchscreen  16M colors</td>\n",
       "      <td>11.027189</td>\n",
       "      <td>2019-11-27</td>\n",
       "      <td>2019-11-27</td>\n",
       "      <td>116ccb1a1604bc88e4d234a8c23f33de</td>\n",
       "    </tr>\n",
       "    <tr>\n",
       "      <th>2</th>\n",
       "      <td>IPS LCD capacitive touchscreen  16M colors</td>\n",
       "      <td>12.315475</td>\n",
       "      <td>2019-03-30</td>\n",
       "      <td>2019-03-30</td>\n",
       "      <td>116ccb1a1604bc88e4d234a8c23f33de</td>\n",
       "    </tr>\n",
       "  </tbody>\n",
       "</table>\n",
       "</div>"
      ],
      "text/plain": [
       "                                      product  pieceprice    approved  \\\n",
       "0  IPS LCD capacitive touchscreen  16M colors   11.685304  2019-10-18   \n",
       "1  IPS LCD capacitive touchscreen  16M colors   11.027189  2019-11-27   \n",
       "2  IPS LCD capacitive touchscreen  16M colors   12.315475  2019-03-30   \n",
       "\n",
       "      ordered                              s.id  \n",
       "0  2019-10-18  116ccb1a1604bc88e4d234a8c23f33de  \n",
       "1  2019-11-27  116ccb1a1604bc88e4d234a8c23f33de  \n",
       "2  2019-03-30  116ccb1a1604bc88e4d234a8c23f33de  "
      ]
     },
     "execution_count": 3,
     "metadata": {},
     "output_type": "execute_result"
    }
   ],
   "source": [
    "from py2neo import Graph,Node,Relationship\n",
    "import pandas as pd\n",
    "g = Graph()\n",
    "q = '''MATCH (s:Supplier)-[payment:Payment]->(m:Manufacturer)\n",
    "MATCH (m)-[order:Order]->(s)\n",
    "WHERE payment.approveddate = order.orderdate AND order.orderproductname=\"IPS LCD capacitive touchscreen  16M colors\" \n",
    "AND toFloat(payment.price_per_piece)<12.42\n",
    "RETURN order.orderproductname as product, toFloat(payment.price_per_piece) as pieceprice, \n",
    "payment.approveddate as approved, order.orderdate as ordered, s.id LIMIT 3\n",
    "\n",
    "'''\n",
    "df = g.run(q).to_data_frame()\n",
    "df"
   ]
  }
 ],
 "metadata": {
  "celltoolbar": "Edit Metadata",
  "hide_input": false,
  "kernelspec": {
   "display_name": "Python 3",
   "language": "python",
   "name": "python3"
  },
  "language_info": {
   "codemirror_mode": {
    "name": "ipython",
    "version": 3
   },
   "file_extension": ".py",
   "mimetype": "text/x-python",
   "name": "python",
   "nbconvert_exporter": "python",
   "pygments_lexer": "ipython3",
   "version": "3.7.6"
  }
 },
 "nbformat": 4,
 "nbformat_minor": 4
}
