{
 "cells": [
  {
   "cell_type": "markdown",
   "metadata": {
    "deletable": false,
    "editable": false
   },
   "source": [
    "NEO4J User Story - 2 :- As a Business Development Manager, I need to know the customer satisfaction of a given prodcut in different Market segments. I have a product, I want the average Ratings for that mobile."
   ]
  },
  {
   "cell_type": "markdown",
   "metadata": {
    "deletable": false,
    "editable": false
   },
   "source": [
    "Hint :- Please dont forget to start \"Complaints & Review Graph\" in Neo4J"
   ]
  },
  {
   "cell_type": "code",
   "execution_count": 7,
   "metadata": {
    "deletable": false,
    "editable": false
   },
   "outputs": [
    {
     "data": {
      "application/vnd.jupyter.widget-view+json": {
       "model_id": "009ad58082d64ce883d127fdfe1c24e7",
       "version_major": 2,
       "version_minor": 0
      },
      "text/plain": [
       "Dropdown(description='Select Mobile - ', options=('NONE', 'Samsung C3500 Monte Bar', 'Samsung Intercept', 'Sam…"
      ]
     },
     "metadata": {},
     "output_type": "display_data"
    }
   ],
   "source": [
    "############################ Importing All Libreries & collecting input ################################\n",
    "from py2neo import Graph,Node,Relationship\n",
    "import pandas as pd\n",
    "import ipywidgets as ipw\n",
    "import matplotlib.pyplot as plt\n",
    "import matplotlib\n",
    "%matplotlib qt\n",
    "df = pd.read_excel(\"IDs.xlsx\")\n",
    "g = Graph()\n",
    "i = ipw.Dropdown(\n",
    "    options=list(df[\"Mobile Names_Neo4J\"].dropna()),\n",
    "    description = \"Select Mobile - \", )\n",
    "i"
   ]
  },
  {
   "cell_type": "code",
   "execution_count": null,
   "metadata": {},
   "outputs": [],
   "source": []
  },
  {
   "cell_type": "code",
   "execution_count": null,
   "metadata": {},
   "outputs": [],
   "source": []
  },
  {
   "cell_type": "code",
   "execution_count": 8,
   "metadata": {
    "deletable": false,
    "editable": false
   },
   "outputs": [
    {
     "data": {
      "text/plain": [
       "'Samsung Z4'"
      ]
     },
     "execution_count": 8,
     "metadata": {},
     "output_type": "execute_result"
    }
   ],
   "source": [
    "############################ Importing All Libreries & collecting input ################################\n",
    "input = i.value\n",
    "input"
   ]
  },
  {
   "cell_type": "code",
   "execution_count": null,
   "metadata": {},
   "outputs": [],
   "source": []
  },
  {
   "cell_type": "code",
   "execution_count": null,
   "metadata": {},
   "outputs": [],
   "source": []
  },
  {
   "cell_type": "code",
   "execution_count": 9,
   "metadata": {
    "deletable": false,
    "editable": false
   },
   "outputs": [],
   "source": [
    "########################################## Neo4J Query ###########################################\n",
    "q = '''MATCH (ra:Rating)<-[:RATING_DETAILS]-(r:Review)-[:REVIEW_ORDER]->(o:Order)-[:PURCHASED_DETAILS]->(m:Mobile)\n",
    "MATCH (o)-[:MANUFACTURED_BY]->(:Manufacturer)-[:LOCATED_IN]->(c:Country)\n",
    "WHERE m.Mobile_Name = \"''' + input + '''\" AND c.Country = \"Germany\"//\"''' + input + '''\"\n",
    "WITH apoc.number.exact.toFloat(toString(AVG(toFloat(ra.Rating))),3,'CEILING') AS num\n",
    "RETURN [\"Germany\" , num ] AS result\n",
    "\n",
    "UNION ALL\n",
    "\n",
    "MATCH (ra:Rating)<-[:RATING_DETAILS]-(r:Review)-[:REVIEW_ORDER]->(o:Order)-[:PURCHASED_DETAILS]->(m:Mobile)\n",
    "MATCH (o)-[:MANUFACTURED_BY]->(:Manufacturer)-[:LOCATED_IN]->(c:Country)\n",
    "WHERE m.Mobile_Name = \"''' + input + '''\" AND c.Country = \"Spain\"//\"''' + input + '''\"\n",
    "WITH apoc.number.exact.toFloat(toString(AVG(toFloat(ra.Rating))),3,'CEILING') AS num\n",
    "RETURN [\"Spain\" , num ] AS result\n",
    "\n",
    "UNION ALL\n",
    "\n",
    "MATCH (ra:Rating)<-[:RATING_DETAILS]-(r:Review)-[:REVIEW_ORDER]->(o:Order)-[:PURCHASED_DETAILS]->(m:Mobile)\n",
    "MATCH (o)-[:MANUFACTURED_BY]->(:Manufacturer)-[:LOCATED_IN]->(c:Country)\n",
    "WHERE m.Mobile_Name = \"''' + input + '''\" AND c.Country = \"USA\"//\"''' + input + '''\"\n",
    "WITH apoc.number.exact.toFloat(toString(AVG(toFloat(ra.Rating))),3,'CEILING') AS num\n",
    "RETURN [\"USA\" , num ] AS result\n",
    "\n",
    "'''"
   ]
  },
  {
   "cell_type": "code",
   "execution_count": null,
   "metadata": {},
   "outputs": [],
   "source": []
  },
  {
   "cell_type": "code",
   "execution_count": null,
   "metadata": {},
   "outputs": [],
   "source": []
  },
  {
   "cell_type": "code",
   "execution_count": null,
   "metadata": {},
   "outputs": [],
   "source": []
  },
  {
   "cell_type": "code",
   "execution_count": 10,
   "metadata": {
    "deletable": false,
    "editable": false
   },
   "outputs": [
    {
     "data": {
      "text/html": [
       "<div>\n",
       "<style scoped>\n",
       "    .dataframe tbody tr th:only-of-type {\n",
       "        vertical-align: middle;\n",
       "    }\n",
       "\n",
       "    .dataframe tbody tr th {\n",
       "        vertical-align: top;\n",
       "    }\n",
       "\n",
       "    .dataframe thead th {\n",
       "        text-align: right;\n",
       "    }\n",
       "</style>\n",
       "<table border=\"1\" class=\"dataframe\">\n",
       "  <thead>\n",
       "    <tr style=\"text-align: right;\">\n",
       "      <th></th>\n",
       "      <th>result</th>\n",
       "    </tr>\n",
       "  </thead>\n",
       "  <tbody>\n",
       "    <tr>\n",
       "      <th>0</th>\n",
       "      <td>[Germany, 1.99]</td>\n",
       "    </tr>\n",
       "    <tr>\n",
       "      <th>1</th>\n",
       "      <td>[Spain, 9.02]</td>\n",
       "    </tr>\n",
       "    <tr>\n",
       "      <th>2</th>\n",
       "      <td>[USA, 5.0]</td>\n",
       "    </tr>\n",
       "  </tbody>\n",
       "</table>\n",
       "</div>"
      ],
      "text/plain": [
       "            result\n",
       "0  [Germany, 1.99]\n",
       "1    [Spain, 9.02]\n",
       "2       [USA, 5.0]"
      ]
     },
     "execution_count": 10,
     "metadata": {},
     "output_type": "execute_result"
    }
   ],
   "source": [
    "##########################Passing query to Neo4J & getting results #######################################\n",
    "df = g.run(q).to_data_frame()\n",
    "df"
   ]
  },
  {
   "cell_type": "code",
   "execution_count": null,
   "metadata": {},
   "outputs": [],
   "source": []
  },
  {
   "cell_type": "code",
   "execution_count": null,
   "metadata": {},
   "outputs": [],
   "source": []
  },
  {
   "cell_type": "code",
   "execution_count": null,
   "metadata": {},
   "outputs": [],
   "source": []
  },
  {
   "cell_type": "code",
   "execution_count": 11,
   "metadata": {
    "deletable": false,
    "editable": false
   },
   "outputs": [
    {
     "data": {
      "text/plain": [
       "Text(0.5, 1.0, ' The Average review ratings given for \"Samsung Z4  \" in all Market segments')"
      ]
     },
     "execution_count": 11,
     "metadata": {},
     "output_type": "execute_result"
    }
   ],
   "source": [
    "####################################### Visulizing the results ####################################################\n",
    "xs = []\n",
    "ys = []\n",
    "for i in df['result']:\n",
    "    xs.append(i[0])\n",
    "    ys.append(i[1])\n",
    "plt.bar(xs, ys,align='center',width=0.5)\n",
    "plt.title(' The Average review ratings given for \"' + input  + '  \" in all Market segments' )"
   ]
  },
  {
   "cell_type": "code",
   "execution_count": null,
   "metadata": {},
   "outputs": [],
   "source": []
  },
  {
   "cell_type": "code",
   "execution_count": null,
   "metadata": {},
   "outputs": [],
   "source": []
  }
 ],
 "metadata": {
  "celltoolbar": "Edit Metadata",
  "hide_input": false,
  "kernelspec": {
   "display_name": "Python 3",
   "language": "python",
   "name": "python3"
  },
  "language_info": {
   "codemirror_mode": {
    "name": "ipython",
    "version": 3
   },
   "file_extension": ".py",
   "mimetype": "text/x-python",
   "name": "python",
   "nbconvert_exporter": "python",
   "pygments_lexer": "ipython3",
   "version": "3.7.6"
  }
 },
 "nbformat": 4,
 "nbformat_minor": 4
}
